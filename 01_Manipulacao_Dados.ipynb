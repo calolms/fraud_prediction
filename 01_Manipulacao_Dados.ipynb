{
  "nbformat": 4,
  "nbformat_minor": 0,
  "metadata": {
    "colab": {
      "provenance": []
    },
    "kernelspec": {
      "name": "python3",
      "display_name": "Python 3"
    },
    "language_info": {
      "name": "python"
    }
  },
  "cells": [
    {
      "cell_type": "code",
      "source": [
        "# install a pip package in the current Jupyter kernel\n",
        "import sys\n",
        "!{sys.executable} -m pip install pip install folium\n",
        "\n",
        "!{sys.executable} -m pip install haversine"
      ],
      "metadata": {
        "colab": {
          "base_uri": "https://localhost:8080/"
        },
        "id": "OMj-LFlHIebq",
        "outputId": "80567408-f8ff-4db2-b4df-e4237869c3ca"
      },
      "execution_count": 88,
      "outputs": [
        {
          "output_type": "stream",
          "name": "stdout",
          "text": [
            "Looking in indexes: https://pypi.org/simple, https://us-python.pkg.dev/colab-wheels/public/simple/\n",
            "Requirement already satisfied: pip in /usr/local/lib/python3.7/dist-packages (21.1.3)\n",
            "Requirement already satisfied: install in /usr/local/lib/python3.7/dist-packages (1.3.5)\n",
            "Requirement already satisfied: folium in /usr/local/lib/python3.7/dist-packages (0.12.1.post1)\n",
            "Requirement already satisfied: requests in /usr/local/lib/python3.7/dist-packages (from folium) (2.23.0)\n",
            "Requirement already satisfied: numpy in /usr/local/lib/python3.7/dist-packages (from folium) (1.21.6)\n",
            "Requirement already satisfied: jinja2>=2.9 in /usr/local/lib/python3.7/dist-packages (from folium) (2.11.3)\n",
            "Requirement already satisfied: branca>=0.3.0 in /usr/local/lib/python3.7/dist-packages (from folium) (0.5.0)\n",
            "Requirement already satisfied: MarkupSafe>=0.23 in /usr/local/lib/python3.7/dist-packages (from jinja2>=2.9->folium) (2.0.1)\n",
            "Requirement already satisfied: chardet<4,>=3.0.2 in /usr/local/lib/python3.7/dist-packages (from requests->folium) (3.0.4)\n",
            "Requirement already satisfied: urllib3!=1.25.0,!=1.25.1,<1.26,>=1.21.1 in /usr/local/lib/python3.7/dist-packages (from requests->folium) (1.24.3)\n",
            "Requirement already satisfied: certifi>=2017.4.17 in /usr/local/lib/python3.7/dist-packages (from requests->folium) (2022.9.24)\n",
            "Requirement already satisfied: idna<3,>=2.5 in /usr/local/lib/python3.7/dist-packages (from requests->folium) (2.10)\n",
            "Looking in indexes: https://pypi.org/simple, https://us-python.pkg.dev/colab-wheels/public/simple/\n",
            "Requirement already satisfied: haversine in /usr/local/lib/python3.7/dist-packages (2.7.0)\n"
          ]
        }
      ]
    },
    {
      "cell_type": "code",
      "source": [
        "# importing required packages\n",
        "import pandas as pd\n",
        "import numpy as np\n",
        "import matplotlib.pyplot as plt\n",
        "import matplotlib.ticker as ticker\n",
        "import seaborn as sns\n",
        "import haversine as hs\n",
        "import folium\n",
        "import warnings\n",
        "from functools import reduce\n",
        "\n",
        "# Settings\n",
        "pd.pandas.set_option('display.max_rows', None)\n",
        "pd.pandas.set_option('display.max_columns', None)\n",
        "warnings.filterwarnings('ignore')\n",
        "\n",
        "\n",
        "#setting backend for matplotlib\n",
        "%matplotlib inline\n",
        "\n",
        "#setting plot style\n",
        "plt.style.use('seaborn-white')"
      ],
      "metadata": {
        "id": "gO4R2cfMstnY"
      },
      "execution_count": 89,
      "outputs": []
    },
    {
      "cell_type": "code",
      "source": [
        "# loading the dataset\n",
        "fraud_train = pd.read_csv('/content/drive/MyDrive/TCC- credit card fraud/fraudTrain.csv')\n",
        "fraud_test = pd.read_csv('/content/drive/MyDrive/TCC- credit card fraud/fraudTest.csv')\n",
        "\n",
        "#concatenating the two datasets\n",
        "df = pd.concat([fraud_train, fraud_test]).reset_index()\n",
        "\n",
        "df.drop(df.columns[:2], axis=1, inplace=True)\n",
        "df.head(2)"
      ],
      "metadata": {
        "colab": {
          "base_uri": "https://localhost:8080/",
          "height": 280
        },
        "id": "kGXkrjX5sz0m",
        "outputId": "09e36511-283a-45ef-88d8-8a289b703d3e"
      },
      "execution_count": 90,
      "outputs": [
        {
          "output_type": "execute_result",
          "data": {
            "text/plain": [
              "  trans_date_trans_time            cc_num                         merchant  \\\n",
              "0   2019-01-01 00:00:18  2703186189652095       fraud_Rippin, Kub and Mann   \n",
              "1   2019-01-01 00:00:44      630423337322  fraud_Heller, Gutmann and Zieme   \n",
              "\n",
              "      category     amt      first   last gender                        street  \\\n",
              "0     misc_net    4.97   Jennifer  Banks      F                561 Perry Cove   \n",
              "1  grocery_pos  107.23  Stephanie   Gill      F  43039 Riley Greens Suite 393   \n",
              "\n",
              "             city state    zip      lat      long  city_pop  \\\n",
              "0  Moravian Falls    NC  28654  36.0788  -81.1781      3495   \n",
              "1          Orient    WA  99160  48.8878 -118.2105       149   \n",
              "\n",
              "                                 job         dob  \\\n",
              "0          Psychologist, counselling  1988-03-09   \n",
              "1  Special educational needs teacher  1978-06-21   \n",
              "\n",
              "                          trans_num   unix_time  merch_lat  merch_long  \\\n",
              "0  0b242abb623afc578575680df30655b9  1325376018  36.011293  -82.048315   \n",
              "1  1f76529f8574734946361c461b024d99  1325376044  49.159047 -118.186462   \n",
              "\n",
              "   is_fraud  \n",
              "0         0  \n",
              "1         0  "
            ],
            "text/html": [
              "\n",
              "  <div id=\"df-af045018-1e05-4ae3-aaf5-ac69b991c466\">\n",
              "    <div class=\"colab-df-container\">\n",
              "      <div>\n",
              "<style scoped>\n",
              "    .dataframe tbody tr th:only-of-type {\n",
              "        vertical-align: middle;\n",
              "    }\n",
              "\n",
              "    .dataframe tbody tr th {\n",
              "        vertical-align: top;\n",
              "    }\n",
              "\n",
              "    .dataframe thead th {\n",
              "        text-align: right;\n",
              "    }\n",
              "</style>\n",
              "<table border=\"1\" class=\"dataframe\">\n",
              "  <thead>\n",
              "    <tr style=\"text-align: right;\">\n",
              "      <th></th>\n",
              "      <th>trans_date_trans_time</th>\n",
              "      <th>cc_num</th>\n",
              "      <th>merchant</th>\n",
              "      <th>category</th>\n",
              "      <th>amt</th>\n",
              "      <th>first</th>\n",
              "      <th>last</th>\n",
              "      <th>gender</th>\n",
              "      <th>street</th>\n",
              "      <th>city</th>\n",
              "      <th>state</th>\n",
              "      <th>zip</th>\n",
              "      <th>lat</th>\n",
              "      <th>long</th>\n",
              "      <th>city_pop</th>\n",
              "      <th>job</th>\n",
              "      <th>dob</th>\n",
              "      <th>trans_num</th>\n",
              "      <th>unix_time</th>\n",
              "      <th>merch_lat</th>\n",
              "      <th>merch_long</th>\n",
              "      <th>is_fraud</th>\n",
              "    </tr>\n",
              "  </thead>\n",
              "  <tbody>\n",
              "    <tr>\n",
              "      <th>0</th>\n",
              "      <td>2019-01-01 00:00:18</td>\n",
              "      <td>2703186189652095</td>\n",
              "      <td>fraud_Rippin, Kub and Mann</td>\n",
              "      <td>misc_net</td>\n",
              "      <td>4.97</td>\n",
              "      <td>Jennifer</td>\n",
              "      <td>Banks</td>\n",
              "      <td>F</td>\n",
              "      <td>561 Perry Cove</td>\n",
              "      <td>Moravian Falls</td>\n",
              "      <td>NC</td>\n",
              "      <td>28654</td>\n",
              "      <td>36.0788</td>\n",
              "      <td>-81.1781</td>\n",
              "      <td>3495</td>\n",
              "      <td>Psychologist, counselling</td>\n",
              "      <td>1988-03-09</td>\n",
              "      <td>0b242abb623afc578575680df30655b9</td>\n",
              "      <td>1325376018</td>\n",
              "      <td>36.011293</td>\n",
              "      <td>-82.048315</td>\n",
              "      <td>0</td>\n",
              "    </tr>\n",
              "    <tr>\n",
              "      <th>1</th>\n",
              "      <td>2019-01-01 00:00:44</td>\n",
              "      <td>630423337322</td>\n",
              "      <td>fraud_Heller, Gutmann and Zieme</td>\n",
              "      <td>grocery_pos</td>\n",
              "      <td>107.23</td>\n",
              "      <td>Stephanie</td>\n",
              "      <td>Gill</td>\n",
              "      <td>F</td>\n",
              "      <td>43039 Riley Greens Suite 393</td>\n",
              "      <td>Orient</td>\n",
              "      <td>WA</td>\n",
              "      <td>99160</td>\n",
              "      <td>48.8878</td>\n",
              "      <td>-118.2105</td>\n",
              "      <td>149</td>\n",
              "      <td>Special educational needs teacher</td>\n",
              "      <td>1978-06-21</td>\n",
              "      <td>1f76529f8574734946361c461b024d99</td>\n",
              "      <td>1325376044</td>\n",
              "      <td>49.159047</td>\n",
              "      <td>-118.186462</td>\n",
              "      <td>0</td>\n",
              "    </tr>\n",
              "  </tbody>\n",
              "</table>\n",
              "</div>\n",
              "      <button class=\"colab-df-convert\" onclick=\"convertToInteractive('df-af045018-1e05-4ae3-aaf5-ac69b991c466')\"\n",
              "              title=\"Convert this dataframe to an interactive table.\"\n",
              "              style=\"display:none;\">\n",
              "        \n",
              "  <svg xmlns=\"http://www.w3.org/2000/svg\" height=\"24px\"viewBox=\"0 0 24 24\"\n",
              "       width=\"24px\">\n",
              "    <path d=\"M0 0h24v24H0V0z\" fill=\"none\"/>\n",
              "    <path d=\"M18.56 5.44l.94 2.06.94-2.06 2.06-.94-2.06-.94-.94-2.06-.94 2.06-2.06.94zm-11 1L8.5 8.5l.94-2.06 2.06-.94-2.06-.94L8.5 2.5l-.94 2.06-2.06.94zm10 10l.94 2.06.94-2.06 2.06-.94-2.06-.94-.94-2.06-.94 2.06-2.06.94z\"/><path d=\"M17.41 7.96l-1.37-1.37c-.4-.4-.92-.59-1.43-.59-.52 0-1.04.2-1.43.59L10.3 9.45l-7.72 7.72c-.78.78-.78 2.05 0 2.83L4 21.41c.39.39.9.59 1.41.59.51 0 1.02-.2 1.41-.59l7.78-7.78 2.81-2.81c.8-.78.8-2.07 0-2.86zM5.41 20L4 18.59l7.72-7.72 1.47 1.35L5.41 20z\"/>\n",
              "  </svg>\n",
              "      </button>\n",
              "      \n",
              "  <style>\n",
              "    .colab-df-container {\n",
              "      display:flex;\n",
              "      flex-wrap:wrap;\n",
              "      gap: 12px;\n",
              "    }\n",
              "\n",
              "    .colab-df-convert {\n",
              "      background-color: #E8F0FE;\n",
              "      border: none;\n",
              "      border-radius: 50%;\n",
              "      cursor: pointer;\n",
              "      display: none;\n",
              "      fill: #1967D2;\n",
              "      height: 32px;\n",
              "      padding: 0 0 0 0;\n",
              "      width: 32px;\n",
              "    }\n",
              "\n",
              "    .colab-df-convert:hover {\n",
              "      background-color: #E2EBFA;\n",
              "      box-shadow: 0px 1px 2px rgba(60, 64, 67, 0.3), 0px 1px 3px 1px rgba(60, 64, 67, 0.15);\n",
              "      fill: #174EA6;\n",
              "    }\n",
              "\n",
              "    [theme=dark] .colab-df-convert {\n",
              "      background-color: #3B4455;\n",
              "      fill: #D2E3FC;\n",
              "    }\n",
              "\n",
              "    [theme=dark] .colab-df-convert:hover {\n",
              "      background-color: #434B5C;\n",
              "      box-shadow: 0px 1px 3px 1px rgba(0, 0, 0, 0.15);\n",
              "      filter: drop-shadow(0px 1px 2px rgba(0, 0, 0, 0.3));\n",
              "      fill: #FFFFFF;\n",
              "    }\n",
              "  </style>\n",
              "\n",
              "      <script>\n",
              "        const buttonEl =\n",
              "          document.querySelector('#df-af045018-1e05-4ae3-aaf5-ac69b991c466 button.colab-df-convert');\n",
              "        buttonEl.style.display =\n",
              "          google.colab.kernel.accessAllowed ? 'block' : 'none';\n",
              "\n",
              "        async function convertToInteractive(key) {\n",
              "          const element = document.querySelector('#df-af045018-1e05-4ae3-aaf5-ac69b991c466');\n",
              "          const dataTable =\n",
              "            await google.colab.kernel.invokeFunction('convertToInteractive',\n",
              "                                                     [key], {});\n",
              "          if (!dataTable) return;\n",
              "\n",
              "          const docLinkHtml = 'Like what you see? Visit the ' +\n",
              "            '<a target=\"_blank\" href=https://colab.research.google.com/notebooks/data_table.ipynb>data table notebook</a>'\n",
              "            + ' to learn more about interactive tables.';\n",
              "          element.innerHTML = '';\n",
              "          dataTable['output_type'] = 'display_data';\n",
              "          await google.colab.output.renderOutput(dataTable, element);\n",
              "          const docLink = document.createElement('div');\n",
              "          docLink.innerHTML = docLinkHtml;\n",
              "          element.appendChild(docLink);\n",
              "        }\n",
              "      </script>\n",
              "    </div>\n",
              "  </div>\n",
              "  "
            ]
          },
          "metadata": {},
          "execution_count": 90
        }
      ]
    },
    {
      "cell_type": "markdown",
      "source": [
        "# PRÉ-PROCESSAMENTO"
      ],
      "metadata": {
        "id": "jrXgcV_2DH20"
      }
    },
    {
      "cell_type": "code",
      "source": [
        "# checking features info\n",
        "df.info()"
      ],
      "metadata": {
        "colab": {
          "base_uri": "https://localhost:8080/"
        },
        "id": "rrKavPcdlSRN",
        "outputId": "b6a7a65a-db48-4efe-f8ff-1704d14ebec4"
      },
      "execution_count": 154,
      "outputs": [
        {
          "output_type": "stream",
          "name": "stdout",
          "text": [
            "<class 'pandas.core.frame.DataFrame'>\n",
            "RangeIndex: 1852394 entries, 0 to 1852393\n",
            "Data columns (total 31 columns):\n",
            " #   Column                   Dtype         \n",
            "---  ------                   -----         \n",
            " 0   index                    int64         \n",
            " 1   trans_date_trans_time    object        \n",
            " 2   cc_num                   object        \n",
            " 3   merchant                 object        \n",
            " 4   category                 object        \n",
            " 5   amt                      float64       \n",
            " 6   first                    object        \n",
            " 7   last                     object        \n",
            " 8   gender                   object        \n",
            " 9   street                   object        \n",
            " 10  city                     object        \n",
            " 11  state                    object        \n",
            " 12  zip                      int64         \n",
            " 13  lat                      float64       \n",
            " 14  long                     float64       \n",
            " 15  city_pop                 int64         \n",
            " 16  job                      object        \n",
            " 17  dob                      datetime64[ns]\n",
            " 18  trans_num                object        \n",
            " 19  unix_time                int64         \n",
            " 20  merch_lat                float64       \n",
            " 21  merch_long               float64       \n",
            " 22  is_fraud                 int64         \n",
            " 23  trans_hour               int64         \n",
            " 24  trans_week_day           object        \n",
            " 25  trans_month              int64         \n",
            " 26  age                      float64       \n",
            " 27  coor_customer            object        \n",
            " 28  coor_merchant            object        \n",
            " 29  dist_cus_merch           float64       \n",
            " 30  qty_purc_unti_now_store  int64         \n",
            "dtypes: datetime64[ns](1), float64(7), int64(8), object(15)\n",
            "memory usage: 438.1+ MB\n"
          ]
        }
      ]
    },
    {
      "cell_type": "code",
      "source": [
        "# converting trans_date_trans_time into datetime\n",
        "df['trans_date_trans_time'] = pd.to_datetime(df['trans_date_trans_time'])\n",
        "print(df.dtypes['trans_date_trans_time'])\n"
      ],
      "metadata": {
        "colab": {
          "base_uri": "https://localhost:8080/"
        },
        "id": "8ndQ_ocxs25T",
        "outputId": "1225f03a-0b55-44c6-c5f7-4c2c7afa48fd"
      },
      "execution_count": 92,
      "outputs": [
        {
          "output_type": "stream",
          "name": "stdout",
          "text": [
            "datetime64[ns]\n"
          ]
        }
      ]
    },
    {
      "cell_type": "code",
      "source": [
        "# deriving additonal columns from 'trans_date_trans_time'\n",
        "#deriving hour\n",
        "df['trans_hour'] = df['trans_date_trans_time'].dt.hour\n",
        "#deriving 'day of the week'\n",
        "df['trans_week_day'] = df['trans_date_trans_time'].dt.day_name()\n",
        "#deriving 'year_month'\n",
        "df['trans_month'] = df['trans_date_trans_time'].dt.month\n"
      ],
      "metadata": {
        "id": "wY_HV7U5s8Ho"
      },
      "execution_count": 93,
      "outputs": []
    },
    {
      "cell_type": "code",
      "source": [
        "# finding age\n",
        "#converting 'dob' column to datetime\n",
        "df['dob'] = pd.to_datetime(df['dob'])\n",
        "df['age'] = np.round((df['trans_date_trans_time'] - \n",
        "                      df['dob'])/np.timedelta64(1, 'Y'))"
      ],
      "metadata": {
        "id": "LZW3Ze-8tACr"
      },
      "execution_count": 94,
      "outputs": []
    },
    {
      "cell_type": "code",
      "source": [
        "# concatenating lat and long to create a consolidated location as accepted by haversine function\n",
        "df['coor_customer'] = list(zip(df.lat, df.long))\n",
        "df['coor_merchant'] = list(zip(df.merch_lat, df.merch_long))\n"
      ],
      "metadata": {
        "id": "TrTVQQ1gkCJG"
      },
      "execution_count": 95,
      "outputs": []
    },
    {
      "cell_type": "code",
      "source": [
        "# defining a  function to calculate distance between two locations \n",
        "def distance_from(row): \n",
        "    dist=hs.haversine(row['coor_customer'], row['coor_merchant'])\n",
        "    return round(dist,2)"
      ],
      "metadata": {
        "id": "L3YPASCoHN_O"
      },
      "execution_count": 96,
      "outputs": []
    },
    {
      "cell_type": "code",
      "source": [
        "# calculating distance between customer and merchant\n",
        "df['dist_cus_merch'] = df.apply(lambda row: distance_from(row), axis=1)\n"
      ],
      "metadata": {
        "id": "NKa7CYI9L5vz"
      },
      "execution_count": 97,
      "outputs": []
    },
    {
      "cell_type": "code",
      "source": [
        "# index as datetime\n",
        "df_dt = df.set_index('trans_date_trans_time')"
      ],
      "metadata": {
        "id": "5gYy0pZxL41G"
      },
      "execution_count": 98,
      "outputs": []
    },
    {
      "cell_type": "code",
      "source": [
        "# creating var - qty_purc_unti_now_store\n",
        "df['qty_purc_unti_now_store'] = df.sort_values(['trans_date_trans_time'], ascending=[True])\\\n",
        "             .groupby(['cc_num', 'merchant']).cumcount() + 1\n",
        "\n",
        "# cheking Variable\n",
        "#df[(df.cc_num == 630423337322) & (df.merchant.isin(['fraud_Heller, Gutmann and Zieme']))]"
      ],
      "metadata": {
        "id": "T8HZYEiNL4gy"
      },
      "execution_count": 99,
      "outputs": []
    },
    {
      "cell_type": "code",
      "source": [
        "# creating var - qty_purc_last_hour_merc\n",
        "df_merch = pd.DataFrame(df_dt.sort_index(ascending=True)\\\n",
        "                            .groupby(['cc_num', 'merchant']).rolling('1H')['amt'].count())\\\n",
        "                            .rename(columns={'amt': 'qty_purc_last_hour_merc'}).astype(int)\n"
      ],
      "metadata": {
        "id": "xB_mKJ_-L4WB"
      },
      "execution_count": 100,
      "outputs": []
    },
    {
      "cell_type": "code",
      "source": [
        "# creating var - qty_purc_last_hour\n",
        "df_1h = pd.DataFrame(df_dt.sort_index(ascending=True)\\\n",
        "                            .groupby(['cc_num']).rolling('1H')['amt'].count())\\\n",
        "                            .rename(columns={'amt': 'qty_purc_last_hour'}).astype(int)"
      ],
      "metadata": {
        "id": "gm1mO5wiL4Ga"
      },
      "execution_count": 101,
      "outputs": []
    },
    {
      "cell_type": "code",
      "source": [
        "# creating var - mean_spet_last_day\n",
        "df_day = pd.DataFrame(df_dt.sort_index(ascending=True)\\\n",
        "                            .groupby(['cc_num']).rolling('1D')['amt'].mean())\\\n",
        "                            .rename(columns={'amt': 'mean_spet_last_day'}).astype(float)"
      ],
      "metadata": {
        "id": "TwTHllLHMKHv"
      },
      "execution_count": 102,
      "outputs": []
    },
    {
      "cell_type": "code",
      "source": [
        "# creating var - mean_spet_last_week\n",
        "df_week = pd.DataFrame(df_dt.sort_index(ascending=True)\\\n",
        "                            .groupby(['cc_num']).rolling('7D')['amt'].mean())\\\n",
        "                            .rename(columns={'amt': 'mean_spet_last_week'}).astype(float)"
      ],
      "metadata": {
        "id": "81Meg9KwMKAd"
      },
      "execution_count": 103,
      "outputs": []
    },
    {
      "cell_type": "code",
      "source": [
        "# creating var - mean_spet_last_mont\n",
        "df_month = pd.DataFrame(df_dt.sort_index(ascending=True)\\\n",
        "                            .groupby(['cc_num']).rolling('30D')['amt'].mean())\\\n",
        "                            .rename(columns={'amt': 'mean_spet_last_mont'}).astype(float)"
      ],
      "metadata": {
        "id": "ImS3SmdMMJ65"
      },
      "execution_count": 104,
      "outputs": []
    },
    {
      "cell_type": "code",
      "source": [
        "# creating var - sum_spet_last_mont\n",
        "df_total = pd.DataFrame(df_dt.sort_index(ascending=True)\\\n",
        "                            .groupby(['cc_num']).rolling('30D')['amt'].sum())\\\n",
        "                            .rename(columns={'amt': 'sum_spet_last_mont'}).astype(float)"
      ],
      "metadata": {
        "id": "l1-jkKHRMJ0D"
      },
      "execution_count": 105,
      "outputs": []
    },
    {
      "cell_type": "code",
      "source": [
        "# creating a list of dataset\n",
        "datasets=[df, df_merch, df_1h, df_day, df_week, df_month, df_total]"
      ],
      "metadata": {
        "id": "CkX-p4JMMJrY"
      },
      "execution_count": 106,
      "outputs": []
    },
    {
      "cell_type": "code",
      "source": [
        "# reseting index, convert to str to merge dataframes\n",
        "for dataframe in datasets:\n",
        "    dataframe.reset_index(inplace=True)\n",
        "    dataframe['trans_date_trans_time'] = dataframe['trans_date_trans_time'].astype(str)\n",
        "    dataframe['cc_num'] = dataframe['cc_num'].astype(str)"
      ],
      "metadata": {
        "id": "LGyn7mwHMJhE"
      },
      "execution_count": 107,
      "outputs": []
    },
    {
      "cell_type": "code",
      "source": [
        "# merging datasets\n",
        "intermediate = df.merge(df_merch, how='left', on=['trans_date_trans_time', 'cc_num', 'merchant'])"
      ],
      "metadata": {
        "id": "4VJBa8jBMJS_"
      },
      "execution_count": 108,
      "outputs": []
    },
    {
      "cell_type": "code",
      "source": [
        "# removing unnecessary datasets\n",
        "datasets.remove(df)\n",
        "datasets.remove(df_merch)"
      ],
      "metadata": {
        "id": "AuRRi96FMwRP"
      },
      "execution_count": 109,
      "outputs": []
    },
    {
      "cell_type": "code",
      "source": [
        "# creating a new list of datasets\n",
        "dataframes = [intermediate, *datasets]"
      ],
      "metadata": {
        "id": "iHUrNjOpMwMj"
      },
      "execution_count": 110,
      "outputs": []
    },
    {
      "cell_type": "code",
      "source": [
        "# merging final datasets\n",
        "df_final = reduce(lambda  left, right:\\\n",
        "                  pd.merge(left, right, on=['trans_date_trans_time', 'cc_num'], how='inner'), dataframes)"
      ],
      "metadata": {
        "id": "o2MnNhGoMwIM"
      },
      "execution_count": 111,
      "outputs": []
    },
    {
      "cell_type": "code",
      "source": [
        "# number of unique values in the dataset\n",
        "df_final.nunique()"
      ],
      "metadata": {
        "colab": {
          "base_uri": "https://localhost:8080/"
        },
        "id": "rogxAv4xs6L8",
        "outputId": "fe08ed7d-8504-4b3c-ae6d-e5631e222b96"
      },
      "execution_count": 112,
      "outputs": [
        {
          "output_type": "execute_result",
          "data": {
            "text/plain": [
              "index                      1852394\n",
              "trans_date_trans_time      1819551\n",
              "cc_num                         999\n",
              "merchant                       693\n",
              "category                        14\n",
              "amt                          60616\n",
              "first                          355\n",
              "last                           486\n",
              "gender                           2\n",
              "street                         999\n",
              "city                           906\n",
              "state                           51\n",
              "zip                            985\n",
              "lat                            983\n",
              "long                           983\n",
              "city_pop                       891\n",
              "job                            497\n",
              "dob                            984\n",
              "trans_num                  1852394\n",
              "unix_time                  1819583\n",
              "merch_lat                  1754157\n",
              "merch_long                 1809753\n",
              "is_fraud                         2\n",
              "trans_hour                      24\n",
              "trans_week_day                   7\n",
              "trans_month                     12\n",
              "age                             83\n",
              "coor_customer                  985\n",
              "coor_merchant              1852394\n",
              "dist_cus_merch               14547\n",
              "qty_purc_unti_now_store         28\n",
              "qty_purc_last_hour_merc          3\n",
              "qty_purc_last_hour               9\n",
              "mean_spet_last_day         1771076\n",
              "mean_spet_last_week        1819770\n",
              "mean_spet_last_mont        1843583\n",
              "sum_spet_last_mont         1597646\n",
              "dtype: int64"
            ]
          },
          "metadata": {},
          "execution_count": 112
        }
      ]
    },
    {
      "cell_type": "code",
      "source": [
        "# dropping variables\n",
        "df_final.drop(['index',\n",
        "               'first', 'last', 'dob', 'job', \n",
        "               'cc_num', 'merchant', 'trans_num',\n",
        "               'street', 'zip',\n",
        "               'lat','long','merch_lat','merch_long'], axis=1, inplace=True)"
      ],
      "metadata": {
        "id": "1I67AhwjMv-8"
      },
      "execution_count": 113,
      "outputs": []
    },
    {
      "cell_type": "code",
      "source": [
        "# saving dataset final version\n",
        "df_final.to_csv('./df_final.csv', index=False)"
      ],
      "metadata": {
        "id": "VMJSLjNwwMxx"
      },
      "execution_count": 114,
      "outputs": []
    },
    {
      "cell_type": "markdown",
      "source": [
        "# Análise exploratoria"
      ],
      "metadata": {
        "id": "YSu_PtVcwdEO"
      }
    },
    {
      "cell_type": "code",
      "source": [
        "# determing the shape of the dataset\n",
        "df_final.shape"
      ],
      "metadata": {
        "id": "XdCQav3MtQd0",
        "colab": {
          "base_uri": "https://localhost:8080/"
        },
        "outputId": "4cfacfe3-c01e-4f8b-d9d1-90b8a2f65630"
      },
      "execution_count": 115,
      "outputs": [
        {
          "output_type": "execute_result",
          "data": {
            "text/plain": [
              "(1855122, 23)"
            ]
          },
          "metadata": {},
          "execution_count": 115
        }
      ]
    },
    {
      "cell_type": "code",
      "source": [
        "# describing the dataset\n",
        "df_final.describe()"
      ],
      "metadata": {
        "id": "ps5_FAUStUVI",
        "colab": {
          "base_uri": "https://localhost:8080/",
          "height": 364
        },
        "outputId": "fafa84e1-408d-425e-e2bd-67b92fe547ce"
      },
      "execution_count": 117,
      "outputs": [
        {
          "output_type": "execute_result",
          "data": {
            "text/plain": [
              "                amt      city_pop     unix_time      is_fraud    trans_hour  \\\n",
              "count  1.855122e+06  1.855122e+06  1.855122e+06  1.855122e+06  1.855122e+06   \n",
              "mean   7.004870e+01  8.861560e+04  1.358686e+09  5.202353e-03  1.280550e+01   \n",
              "std    1.591688e+02  3.013551e+05  1.819760e+07  7.193950e-02  6.816984e+00   \n",
              "min    1.000000e+00  2.300000e+01  1.325376e+09  0.000000e+00  0.000000e+00   \n",
              "25%    9.640000e+00  7.410000e+02  1.343037e+09  0.000000e+00  7.000000e+00   \n",
              "50%    4.744000e+01  2.443000e+03  1.357126e+09  0.000000e+00  1.400000e+01   \n",
              "75%    8.309000e+01  2.032800e+04  1.374601e+09  0.000000e+00  1.900000e+01   \n",
              "max    2.894890e+04  2.906700e+06  1.388534e+09  1.000000e+00  2.300000e+01   \n",
              "\n",
              "        trans_month           age  dist_cus_merch  qty_purc_unti_now_store  \\\n",
              "count  1.855122e+06  1.855122e+06    1.855122e+06             1.855122e+06   \n",
              "mean   7.153815e+00  4.626080e+01    7.611543e+01             3.150157e+00   \n",
              "std    3.424797e+00  1.740825e+01    2.911459e+01             2.333939e+00   \n",
              "min    1.000000e+00  1.400000e+01    2.000000e-02             1.000000e+00   \n",
              "25%    4.000000e+00  3.300000e+01    5.533000e+01             1.000000e+00   \n",
              "50%    7.000000e+00  4.400000e+01    7.823000e+01             2.000000e+00   \n",
              "75%    1.000000e+01  5.700000e+01    9.851000e+01             4.000000e+00   \n",
              "max    1.200000e+01  9.600000e+01    1.521200e+02             2.800000e+01   \n",
              "\n",
              "       qty_purc_last_hour_merc  qty_purc_last_hour  mean_spet_last_day  \\\n",
              "count             1.855122e+06        1.855122e+06        1.855122e+06   \n",
              "mean              1.000568e+00        1.200706e+00        7.013652e+01   \n",
              "std               2.384059e-02        4.763387e-01        9.381068e+01   \n",
              "min               1.000000e+00        1.000000e+00        1.000000e+00   \n",
              "25%               1.000000e+00        1.000000e+00        3.608865e+01   \n",
              "50%               1.000000e+00        1.000000e+00        5.570000e+01   \n",
              "75%               1.000000e+00        1.000000e+00        8.078500e+01   \n",
              "max               3.000000e+00        9.000000e+00        2.711977e+04   \n",
              "\n",
              "       mean_spet_last_week  mean_spet_last_mont  sum_spet_last_mont  \n",
              "count         1.855122e+06         1.855122e+06        1.855122e+06  \n",
              "mean          6.992429e+01         6.999890e+01        7.583123e+03  \n",
              "std           4.432005e+01         2.778111e+01        4.548744e+03  \n",
              "min           1.030000e+00         1.030000e+00        1.030000e+00  \n",
              "25%           4.738216e+01         5.287141e+01        4.373215e+03  \n",
              "50%           6.117385e+01         6.362251e+01        6.698030e+03  \n",
              "75%           8.143361e+01         8.319052e+01        9.893377e+03  \n",
              "max           3.900707e+03         1.433540e+03        4.396432e+04  "
            ],
            "text/html": [
              "\n",
              "  <div id=\"df-92332ded-fb85-4e32-85ed-38930dc851c6\">\n",
              "    <div class=\"colab-df-container\">\n",
              "      <div>\n",
              "<style scoped>\n",
              "    .dataframe tbody tr th:only-of-type {\n",
              "        vertical-align: middle;\n",
              "    }\n",
              "\n",
              "    .dataframe tbody tr th {\n",
              "        vertical-align: top;\n",
              "    }\n",
              "\n",
              "    .dataframe thead th {\n",
              "        text-align: right;\n",
              "    }\n",
              "</style>\n",
              "<table border=\"1\" class=\"dataframe\">\n",
              "  <thead>\n",
              "    <tr style=\"text-align: right;\">\n",
              "      <th></th>\n",
              "      <th>amt</th>\n",
              "      <th>city_pop</th>\n",
              "      <th>unix_time</th>\n",
              "      <th>is_fraud</th>\n",
              "      <th>trans_hour</th>\n",
              "      <th>trans_month</th>\n",
              "      <th>age</th>\n",
              "      <th>dist_cus_merch</th>\n",
              "      <th>qty_purc_unti_now_store</th>\n",
              "      <th>qty_purc_last_hour_merc</th>\n",
              "      <th>qty_purc_last_hour</th>\n",
              "      <th>mean_spet_last_day</th>\n",
              "      <th>mean_spet_last_week</th>\n",
              "      <th>mean_spet_last_mont</th>\n",
              "      <th>sum_spet_last_mont</th>\n",
              "    </tr>\n",
              "  </thead>\n",
              "  <tbody>\n",
              "    <tr>\n",
              "      <th>count</th>\n",
              "      <td>1.855122e+06</td>\n",
              "      <td>1.855122e+06</td>\n",
              "      <td>1.855122e+06</td>\n",
              "      <td>1.855122e+06</td>\n",
              "      <td>1.855122e+06</td>\n",
              "      <td>1.855122e+06</td>\n",
              "      <td>1.855122e+06</td>\n",
              "      <td>1.855122e+06</td>\n",
              "      <td>1.855122e+06</td>\n",
              "      <td>1.855122e+06</td>\n",
              "      <td>1.855122e+06</td>\n",
              "      <td>1.855122e+06</td>\n",
              "      <td>1.855122e+06</td>\n",
              "      <td>1.855122e+06</td>\n",
              "      <td>1.855122e+06</td>\n",
              "    </tr>\n",
              "    <tr>\n",
              "      <th>mean</th>\n",
              "      <td>7.004870e+01</td>\n",
              "      <td>8.861560e+04</td>\n",
              "      <td>1.358686e+09</td>\n",
              "      <td>5.202353e-03</td>\n",
              "      <td>1.280550e+01</td>\n",
              "      <td>7.153815e+00</td>\n",
              "      <td>4.626080e+01</td>\n",
              "      <td>7.611543e+01</td>\n",
              "      <td>3.150157e+00</td>\n",
              "      <td>1.000568e+00</td>\n",
              "      <td>1.200706e+00</td>\n",
              "      <td>7.013652e+01</td>\n",
              "      <td>6.992429e+01</td>\n",
              "      <td>6.999890e+01</td>\n",
              "      <td>7.583123e+03</td>\n",
              "    </tr>\n",
              "    <tr>\n",
              "      <th>std</th>\n",
              "      <td>1.591688e+02</td>\n",
              "      <td>3.013551e+05</td>\n",
              "      <td>1.819760e+07</td>\n",
              "      <td>7.193950e-02</td>\n",
              "      <td>6.816984e+00</td>\n",
              "      <td>3.424797e+00</td>\n",
              "      <td>1.740825e+01</td>\n",
              "      <td>2.911459e+01</td>\n",
              "      <td>2.333939e+00</td>\n",
              "      <td>2.384059e-02</td>\n",
              "      <td>4.763387e-01</td>\n",
              "      <td>9.381068e+01</td>\n",
              "      <td>4.432005e+01</td>\n",
              "      <td>2.778111e+01</td>\n",
              "      <td>4.548744e+03</td>\n",
              "    </tr>\n",
              "    <tr>\n",
              "      <th>min</th>\n",
              "      <td>1.000000e+00</td>\n",
              "      <td>2.300000e+01</td>\n",
              "      <td>1.325376e+09</td>\n",
              "      <td>0.000000e+00</td>\n",
              "      <td>0.000000e+00</td>\n",
              "      <td>1.000000e+00</td>\n",
              "      <td>1.400000e+01</td>\n",
              "      <td>2.000000e-02</td>\n",
              "      <td>1.000000e+00</td>\n",
              "      <td>1.000000e+00</td>\n",
              "      <td>1.000000e+00</td>\n",
              "      <td>1.000000e+00</td>\n",
              "      <td>1.030000e+00</td>\n",
              "      <td>1.030000e+00</td>\n",
              "      <td>1.030000e+00</td>\n",
              "    </tr>\n",
              "    <tr>\n",
              "      <th>25%</th>\n",
              "      <td>9.640000e+00</td>\n",
              "      <td>7.410000e+02</td>\n",
              "      <td>1.343037e+09</td>\n",
              "      <td>0.000000e+00</td>\n",
              "      <td>7.000000e+00</td>\n",
              "      <td>4.000000e+00</td>\n",
              "      <td>3.300000e+01</td>\n",
              "      <td>5.533000e+01</td>\n",
              "      <td>1.000000e+00</td>\n",
              "      <td>1.000000e+00</td>\n",
              "      <td>1.000000e+00</td>\n",
              "      <td>3.608865e+01</td>\n",
              "      <td>4.738216e+01</td>\n",
              "      <td>5.287141e+01</td>\n",
              "      <td>4.373215e+03</td>\n",
              "    </tr>\n",
              "    <tr>\n",
              "      <th>50%</th>\n",
              "      <td>4.744000e+01</td>\n",
              "      <td>2.443000e+03</td>\n",
              "      <td>1.357126e+09</td>\n",
              "      <td>0.000000e+00</td>\n",
              "      <td>1.400000e+01</td>\n",
              "      <td>7.000000e+00</td>\n",
              "      <td>4.400000e+01</td>\n",
              "      <td>7.823000e+01</td>\n",
              "      <td>2.000000e+00</td>\n",
              "      <td>1.000000e+00</td>\n",
              "      <td>1.000000e+00</td>\n",
              "      <td>5.570000e+01</td>\n",
              "      <td>6.117385e+01</td>\n",
              "      <td>6.362251e+01</td>\n",
              "      <td>6.698030e+03</td>\n",
              "    </tr>\n",
              "    <tr>\n",
              "      <th>75%</th>\n",
              "      <td>8.309000e+01</td>\n",
              "      <td>2.032800e+04</td>\n",
              "      <td>1.374601e+09</td>\n",
              "      <td>0.000000e+00</td>\n",
              "      <td>1.900000e+01</td>\n",
              "      <td>1.000000e+01</td>\n",
              "      <td>5.700000e+01</td>\n",
              "      <td>9.851000e+01</td>\n",
              "      <td>4.000000e+00</td>\n",
              "      <td>1.000000e+00</td>\n",
              "      <td>1.000000e+00</td>\n",
              "      <td>8.078500e+01</td>\n",
              "      <td>8.143361e+01</td>\n",
              "      <td>8.319052e+01</td>\n",
              "      <td>9.893377e+03</td>\n",
              "    </tr>\n",
              "    <tr>\n",
              "      <th>max</th>\n",
              "      <td>2.894890e+04</td>\n",
              "      <td>2.906700e+06</td>\n",
              "      <td>1.388534e+09</td>\n",
              "      <td>1.000000e+00</td>\n",
              "      <td>2.300000e+01</td>\n",
              "      <td>1.200000e+01</td>\n",
              "      <td>9.600000e+01</td>\n",
              "      <td>1.521200e+02</td>\n",
              "      <td>2.800000e+01</td>\n",
              "      <td>3.000000e+00</td>\n",
              "      <td>9.000000e+00</td>\n",
              "      <td>2.711977e+04</td>\n",
              "      <td>3.900707e+03</td>\n",
              "      <td>1.433540e+03</td>\n",
              "      <td>4.396432e+04</td>\n",
              "    </tr>\n",
              "  </tbody>\n",
              "</table>\n",
              "</div>\n",
              "      <button class=\"colab-df-convert\" onclick=\"convertToInteractive('df-92332ded-fb85-4e32-85ed-38930dc851c6')\"\n",
              "              title=\"Convert this dataframe to an interactive table.\"\n",
              "              style=\"display:none;\">\n",
              "        \n",
              "  <svg xmlns=\"http://www.w3.org/2000/svg\" height=\"24px\"viewBox=\"0 0 24 24\"\n",
              "       width=\"24px\">\n",
              "    <path d=\"M0 0h24v24H0V0z\" fill=\"none\"/>\n",
              "    <path d=\"M18.56 5.44l.94 2.06.94-2.06 2.06-.94-2.06-.94-.94-2.06-.94 2.06-2.06.94zm-11 1L8.5 8.5l.94-2.06 2.06-.94-2.06-.94L8.5 2.5l-.94 2.06-2.06.94zm10 10l.94 2.06.94-2.06 2.06-.94-2.06-.94-.94-2.06-.94 2.06-2.06.94z\"/><path d=\"M17.41 7.96l-1.37-1.37c-.4-.4-.92-.59-1.43-.59-.52 0-1.04.2-1.43.59L10.3 9.45l-7.72 7.72c-.78.78-.78 2.05 0 2.83L4 21.41c.39.39.9.59 1.41.59.51 0 1.02-.2 1.41-.59l7.78-7.78 2.81-2.81c.8-.78.8-2.07 0-2.86zM5.41 20L4 18.59l7.72-7.72 1.47 1.35L5.41 20z\"/>\n",
              "  </svg>\n",
              "      </button>\n",
              "      \n",
              "  <style>\n",
              "    .colab-df-container {\n",
              "      display:flex;\n",
              "      flex-wrap:wrap;\n",
              "      gap: 12px;\n",
              "    }\n",
              "\n",
              "    .colab-df-convert {\n",
              "      background-color: #E8F0FE;\n",
              "      border: none;\n",
              "      border-radius: 50%;\n",
              "      cursor: pointer;\n",
              "      display: none;\n",
              "      fill: #1967D2;\n",
              "      height: 32px;\n",
              "      padding: 0 0 0 0;\n",
              "      width: 32px;\n",
              "    }\n",
              "\n",
              "    .colab-df-convert:hover {\n",
              "      background-color: #E2EBFA;\n",
              "      box-shadow: 0px 1px 2px rgba(60, 64, 67, 0.3), 0px 1px 3px 1px rgba(60, 64, 67, 0.15);\n",
              "      fill: #174EA6;\n",
              "    }\n",
              "\n",
              "    [theme=dark] .colab-df-convert {\n",
              "      background-color: #3B4455;\n",
              "      fill: #D2E3FC;\n",
              "    }\n",
              "\n",
              "    [theme=dark] .colab-df-convert:hover {\n",
              "      background-color: #434B5C;\n",
              "      box-shadow: 0px 1px 3px 1px rgba(0, 0, 0, 0.15);\n",
              "      filter: drop-shadow(0px 1px 2px rgba(0, 0, 0, 0.3));\n",
              "      fill: #FFFFFF;\n",
              "    }\n",
              "  </style>\n",
              "\n",
              "      <script>\n",
              "        const buttonEl =\n",
              "          document.querySelector('#df-92332ded-fb85-4e32-85ed-38930dc851c6 button.colab-df-convert');\n",
              "        buttonEl.style.display =\n",
              "          google.colab.kernel.accessAllowed ? 'block' : 'none';\n",
              "\n",
              "        async function convertToInteractive(key) {\n",
              "          const element = document.querySelector('#df-92332ded-fb85-4e32-85ed-38930dc851c6');\n",
              "          const dataTable =\n",
              "            await google.colab.kernel.invokeFunction('convertToInteractive',\n",
              "                                                     [key], {});\n",
              "          if (!dataTable) return;\n",
              "\n",
              "          const docLinkHtml = 'Like what you see? Visit the ' +\n",
              "            '<a target=\"_blank\" href=https://colab.research.google.com/notebooks/data_table.ipynb>data table notebook</a>'\n",
              "            + ' to learn more about interactive tables.';\n",
              "          element.innerHTML = '';\n",
              "          dataTable['output_type'] = 'display_data';\n",
              "          await google.colab.output.renderOutput(dataTable, element);\n",
              "          const docLink = document.createElement('div');\n",
              "          docLink.innerHTML = docLinkHtml;\n",
              "          element.appendChild(docLink);\n",
              "        }\n",
              "      </script>\n",
              "    </div>\n",
              "  </div>\n",
              "  "
            ]
          },
          "metadata": {},
          "execution_count": 117
        }
      ]
    },
    {
      "cell_type": "code",
      "source": [
        "# checking the percentage of fraudulent data points in our dataset\n",
        "100*df_final.is_fraud.value_counts(normalize=True)"
      ],
      "metadata": {
        "id": "U3Uy9nAOtXWI",
        "colab": {
          "base_uri": "https://localhost:8080/"
        },
        "outputId": "625a8bb6-796b-4aa0-ca29-80cdc8b50673"
      },
      "execution_count": 118,
      "outputs": [
        {
          "output_type": "execute_result",
          "data": {
            "text/plain": [
              "0    99.479765\n",
              "1     0.520235\n",
              "Name: is_fraud, dtype: float64"
            ]
          },
          "metadata": {},
          "execution_count": 118
        }
      ]
    },
    {
      "cell_type": "code",
      "source": [
        "# looking at distribution of amount\n",
        "pd.concat(\n",
        "    [df_final['amt'].describe(percentiles = [0.5,0.95,0.999]).reset_index().rename(columns={'index': 'Row Type', 'amt':'Overall Amt Distribution'}),\n",
        "     df_final.loc[df_final['is_fraud']==0,['amt']].describe(percentiles = [0.5,0.95,0.999]).reset_index(drop = 1).rename(columns={'amt':'Non-Fraud Amt Distribution'}),\n",
        "     df_final.loc[df_final['is_fraud']==1,['amt']].describe(percentiles = [0.5,0.95,0.999]).reset_index(drop = 1).rename(columns={'amt':'Fraud Amt Distribution'})], axis=1)"
      ],
      "metadata": {
        "id": "-KEFp5dGtc0x",
        "colab": {
          "base_uri": "https://localhost:8080/",
          "height": 300
        },
        "outputId": "f0963247-e672-421c-b67c-aa663487bf2c"
      },
      "execution_count": 119,
      "outputs": [
        {
          "output_type": "execute_result",
          "data": {
            "text/plain": [
              "  Row Type  Overall Amt Distribution  Non-Fraud Amt Distribution  \\\n",
              "0    count              1.855122e+06                1.845471e+06   \n",
              "1     mean              7.004870e+01                6.763990e+01   \n",
              "2      std              1.591688e+02                1.534677e+02   \n",
              "3      min              1.000000e+00                1.000000e+00   \n",
              "4      50%              4.744000e+01                4.723000e+01   \n",
              "5      95%              1.953000e+02                1.895800e+02   \n",
              "6    99.9%              1.516978e+03                1.519084e+03   \n",
              "7      max              2.894890e+04                2.894890e+04   \n",
              "\n",
              "   Fraud Amt Distribution  \n",
              "0             9651.000000  \n",
              "1              530.661412  \n",
              "2              391.028873  \n",
              "3                1.060000  \n",
              "4              390.000000  \n",
              "5             1084.090000  \n",
              "6             1293.127000  \n",
              "7             1376.040000  "
            ],
            "text/html": [
              "\n",
              "  <div id=\"df-f9823a3a-5ee2-42d1-aeeb-b4d0a0b91952\">\n",
              "    <div class=\"colab-df-container\">\n",
              "      <div>\n",
              "<style scoped>\n",
              "    .dataframe tbody tr th:only-of-type {\n",
              "        vertical-align: middle;\n",
              "    }\n",
              "\n",
              "    .dataframe tbody tr th {\n",
              "        vertical-align: top;\n",
              "    }\n",
              "\n",
              "    .dataframe thead th {\n",
              "        text-align: right;\n",
              "    }\n",
              "</style>\n",
              "<table border=\"1\" class=\"dataframe\">\n",
              "  <thead>\n",
              "    <tr style=\"text-align: right;\">\n",
              "      <th></th>\n",
              "      <th>Row Type</th>\n",
              "      <th>Overall Amt Distribution</th>\n",
              "      <th>Non-Fraud Amt Distribution</th>\n",
              "      <th>Fraud Amt Distribution</th>\n",
              "    </tr>\n",
              "  </thead>\n",
              "  <tbody>\n",
              "    <tr>\n",
              "      <th>0</th>\n",
              "      <td>count</td>\n",
              "      <td>1.855122e+06</td>\n",
              "      <td>1.845471e+06</td>\n",
              "      <td>9651.000000</td>\n",
              "    </tr>\n",
              "    <tr>\n",
              "      <th>1</th>\n",
              "      <td>mean</td>\n",
              "      <td>7.004870e+01</td>\n",
              "      <td>6.763990e+01</td>\n",
              "      <td>530.661412</td>\n",
              "    </tr>\n",
              "    <tr>\n",
              "      <th>2</th>\n",
              "      <td>std</td>\n",
              "      <td>1.591688e+02</td>\n",
              "      <td>1.534677e+02</td>\n",
              "      <td>391.028873</td>\n",
              "    </tr>\n",
              "    <tr>\n",
              "      <th>3</th>\n",
              "      <td>min</td>\n",
              "      <td>1.000000e+00</td>\n",
              "      <td>1.000000e+00</td>\n",
              "      <td>1.060000</td>\n",
              "    </tr>\n",
              "    <tr>\n",
              "      <th>4</th>\n",
              "      <td>50%</td>\n",
              "      <td>4.744000e+01</td>\n",
              "      <td>4.723000e+01</td>\n",
              "      <td>390.000000</td>\n",
              "    </tr>\n",
              "    <tr>\n",
              "      <th>5</th>\n",
              "      <td>95%</td>\n",
              "      <td>1.953000e+02</td>\n",
              "      <td>1.895800e+02</td>\n",
              "      <td>1084.090000</td>\n",
              "    </tr>\n",
              "    <tr>\n",
              "      <th>6</th>\n",
              "      <td>99.9%</td>\n",
              "      <td>1.516978e+03</td>\n",
              "      <td>1.519084e+03</td>\n",
              "      <td>1293.127000</td>\n",
              "    </tr>\n",
              "    <tr>\n",
              "      <th>7</th>\n",
              "      <td>max</td>\n",
              "      <td>2.894890e+04</td>\n",
              "      <td>2.894890e+04</td>\n",
              "      <td>1376.040000</td>\n",
              "    </tr>\n",
              "  </tbody>\n",
              "</table>\n",
              "</div>\n",
              "      <button class=\"colab-df-convert\" onclick=\"convertToInteractive('df-f9823a3a-5ee2-42d1-aeeb-b4d0a0b91952')\"\n",
              "              title=\"Convert this dataframe to an interactive table.\"\n",
              "              style=\"display:none;\">\n",
              "        \n",
              "  <svg xmlns=\"http://www.w3.org/2000/svg\" height=\"24px\"viewBox=\"0 0 24 24\"\n",
              "       width=\"24px\">\n",
              "    <path d=\"M0 0h24v24H0V0z\" fill=\"none\"/>\n",
              "    <path d=\"M18.56 5.44l.94 2.06.94-2.06 2.06-.94-2.06-.94-.94-2.06-.94 2.06-2.06.94zm-11 1L8.5 8.5l.94-2.06 2.06-.94-2.06-.94L8.5 2.5l-.94 2.06-2.06.94zm10 10l.94 2.06.94-2.06 2.06-.94-2.06-.94-.94-2.06-.94 2.06-2.06.94z\"/><path d=\"M17.41 7.96l-1.37-1.37c-.4-.4-.92-.59-1.43-.59-.52 0-1.04.2-1.43.59L10.3 9.45l-7.72 7.72c-.78.78-.78 2.05 0 2.83L4 21.41c.39.39.9.59 1.41.59.51 0 1.02-.2 1.41-.59l7.78-7.78 2.81-2.81c.8-.78.8-2.07 0-2.86zM5.41 20L4 18.59l7.72-7.72 1.47 1.35L5.41 20z\"/>\n",
              "  </svg>\n",
              "      </button>\n",
              "      \n",
              "  <style>\n",
              "    .colab-df-container {\n",
              "      display:flex;\n",
              "      flex-wrap:wrap;\n",
              "      gap: 12px;\n",
              "    }\n",
              "\n",
              "    .colab-df-convert {\n",
              "      background-color: #E8F0FE;\n",
              "      border: none;\n",
              "      border-radius: 50%;\n",
              "      cursor: pointer;\n",
              "      display: none;\n",
              "      fill: #1967D2;\n",
              "      height: 32px;\n",
              "      padding: 0 0 0 0;\n",
              "      width: 32px;\n",
              "    }\n",
              "\n",
              "    .colab-df-convert:hover {\n",
              "      background-color: #E2EBFA;\n",
              "      box-shadow: 0px 1px 2px rgba(60, 64, 67, 0.3), 0px 1px 3px 1px rgba(60, 64, 67, 0.15);\n",
              "      fill: #174EA6;\n",
              "    }\n",
              "\n",
              "    [theme=dark] .colab-df-convert {\n",
              "      background-color: #3B4455;\n",
              "      fill: #D2E3FC;\n",
              "    }\n",
              "\n",
              "    [theme=dark] .colab-df-convert:hover {\n",
              "      background-color: #434B5C;\n",
              "      box-shadow: 0px 1px 3px 1px rgba(0, 0, 0, 0.15);\n",
              "      filter: drop-shadow(0px 1px 2px rgba(0, 0, 0, 0.3));\n",
              "      fill: #FFFFFF;\n",
              "    }\n",
              "  </style>\n",
              "\n",
              "      <script>\n",
              "        const buttonEl =\n",
              "          document.querySelector('#df-f9823a3a-5ee2-42d1-aeeb-b4d0a0b91952 button.colab-df-convert');\n",
              "        buttonEl.style.display =\n",
              "          google.colab.kernel.accessAllowed ? 'block' : 'none';\n",
              "\n",
              "        async function convertToInteractive(key) {\n",
              "          const element = document.querySelector('#df-f9823a3a-5ee2-42d1-aeeb-b4d0a0b91952');\n",
              "          const dataTable =\n",
              "            await google.colab.kernel.invokeFunction('convertToInteractive',\n",
              "                                                     [key], {});\n",
              "          if (!dataTable) return;\n",
              "\n",
              "          const docLinkHtml = 'Like what you see? Visit the ' +\n",
              "            '<a target=\"_blank\" href=https://colab.research.google.com/notebooks/data_table.ipynb>data table notebook</a>'\n",
              "            + ' to learn more about interactive tables.';\n",
              "          element.innerHTML = '';\n",
              "          dataTable['output_type'] = 'display_data';\n",
              "          await google.colab.output.renderOutput(dataTable, element);\n",
              "          const docLink = document.createElement('div');\n",
              "          docLink.innerHTML = docLinkHtml;\n",
              "          element.appendChild(docLink);\n",
              "        }\n",
              "      </script>\n",
              "    </div>\n",
              "  </div>\n",
              "  "
            ]
          },
          "metadata": {},
          "execution_count": 119
        }
      ]
    },
    {
      "cell_type": "code",
      "source": [
        "# amount vs fraud\n",
        "\n",
        "fig, ax = plt.subplots(1, 3,figsize=(14, 4))\n",
        "\n",
        "#distribution plots\n",
        "sns.histplot(df_final[df_final.amt <= 1500].amt, bins=50, color='gray', alpha=0.8, ax=ax[0])\n",
        "sns.histplot(df_final[(df_final.is_fraud==0) & (df_final.amt<=1500)].amt, bins=50, color='gray', alpha=0.8, ax=ax[1])\n",
        "sns.histplot(df_final[(df_final.is_fraud==1) & (df_final.amt<=1500)].amt, bins=50, color='gray',alpha=0.8, ax=ax[2])\n",
        "\n",
        "\n",
        "#setting titles\n",
        "ax[0].set_title('Overall Amount')\n",
        "ax[1].set_title('Non Fraud Amount')\n",
        "ax[2].set_title('Fraud Amount')\n",
        "\n",
        "#setting x labels\n",
        "ax[0].set_xlabel('Transaction Amount')\n",
        "ax[1].set_xlabel('Transaction Amount')\n",
        "ax[2].set_xlabel('Transaction Amount')\n",
        "\n",
        "#setting y label\n",
        "ax[0].set_ylabel('Number of transactions')\n",
        "ax[1].set_ylabel('')\n",
        "ax[2].set_ylabel('')\n",
        "\n",
        "#ax = matplotlib.pyplot.gca()\n",
        "mkfunc = lambda x, pos: '%1.0fM' % (x * 1e-6) if x >= 1e6 else '%1.0fK' % (x * 1e-3) if x >= 1e3 else '%1.0f' % x\n",
        "mkfunc_2 = lambda x, pos: '%1.1fM' % (x * 1e-6) if x >= 1e6 else '%1.1fK' % (x * 1e-3) if x >= 1e3 else '%1.0f' % x\n",
        "mkformatter = ticker.FuncFormatter(mkfunc)\n",
        "mkformatter_2 = ticker.FuncFormatter(mkfunc_2)\n",
        "\n",
        "ax[0].yaxis.set_major_formatter(mkformatter)\n",
        "ax[1].yaxis.set_major_formatter(mkformatter)\n",
        "ax[2].yaxis.set_major_formatter(mkformatter_2)\n",
        "\n",
        "plt.subplots_adjust(hspace=12)\n",
        "plt.show()\n",
        "fig.savefig('./distamount.png', bbox_inches='tight', dpi=600)"
      ],
      "metadata": {
        "colab": {
          "base_uri": "https://localhost:8080/",
          "height": 291
        },
        "id": "YnBjJUlij3vx",
        "outputId": "8772e31e-1c3c-4e1a-c89f-aec53e4cf375"
      },
      "execution_count": 120,
      "outputs": [
        {
          "output_type": "display_data",
          "data": {
            "text/plain": [
              "<Figure size 1008x288 with 3 Axes>"
            ],
            "image/png": "[encoded data removed]"
          },
          "metadata": {}
        }
      ]
    },
    {
      "cell_type": "code",
      "source": [
        "# hour in a day vs fraud\n",
        "fig = plt.figure(figsize=(10,6))\n",
        "ax=sns.histplot(data=df_final, x=\"trans_hour\", hue=\"is_fraud\", common_norm=False, stat='percent',multiple='dodge',palette='gist_gray', shrink=4)\n",
        "ax.set_ylabel('Percentage')\n",
        "ax.set_xlabel('Time (Hour) in a Day')\n",
        "plt.style.use('seaborn-white')\n",
        "plt.xticks(np.arange(0,24,1))\n",
        "plt.title('Fraudulent vs Non-Fraudulent Transactions per Hour')\n",
        "plt.legend(title='Type', labels=['Fraud', 'Not Fraud'], loc='upper left')\n",
        "\n",
        "plt.show()\n",
        "fig.savefig('./hour.png', bbox_inches='tight', dpi=600)"
      ],
      "metadata": {
        "id": "wHY-TSuiaL-P",
        "colab": {
          "base_uri": "https://localhost:8080/",
          "height": 400
        },
        "outputId": "f3e21645-228e-4fda-c72c-f5c98bff9471"
      },
      "execution_count": 150,
      "outputs": [
        {
          "output_type": "display_data",
          "data": {
            "text/plain": [
              "<Figure size 720x432 with 1 Axes>"
            ],
            "image/png": "[encoded data removed]"
          },
          "metadata": {}
        }
      ]
    },
    {
      "cell_type": "code",
      "source": [
        "# day of week vs fraud\n",
        "fig = plt.figure(figsize=(10,6))\n",
        "ax=sns.histplot(data=df_final, x=\"trans_week_day\", hue=\"is_fraud\", common_norm=False,stat='percent',multiple='dodge',palette='gist_gray', shrink=0.5)\n",
        "ax.set_xticklabels([\"Tue\",\"Wed\",\"Thu\",\"Fri\",\"Sat\",\"Sun\", \"Mon\"])\n",
        "ax.set_ylabel('Percentage')\n",
        "ax.set_xlabel('Day of Week')\n",
        "plt.style.use('seaborn-white')\n",
        "plt.title('Fraudulent vs Non-Fraudulent Transactions per Day')\n",
        "plt.legend(title='Type', labels=['Fraud', 'Not Fraud'],loc='left')\n",
        "fig.savefig('./distday.png', bbox_inches='tight', dpi=600)\n"
      ],
      "metadata": {
        "id": "f89rA8X3b5ay",
        "colab": {
          "base_uri": "https://localhost:8080/",
          "height": 400
        },
        "outputId": "6c3cdf2d-9cfb-4d37-8174-69c3c4c8e596"
      },
      "execution_count": 151,
      "outputs": [
        {
          "output_type": "display_data",
          "data": {
            "text/plain": [
              "<Figure size 720x432 with 1 Axes>"
            ],
            "image/png": "[encoded data removed]"
          },
          "metadata": {}
        }
      ]
    },
    {
      "cell_type": "code",
      "source": [
        "# month vs fraud\n",
        "fig = plt.figure(figsize=(10,6))\n",
        "ax=sns.histplot(data=df_final, x=\"trans_month\", hue=\"is_fraud\", common_norm=False,stat='percent',multiple='dodge',palette='gist_gray', shrink=3)\n",
        "ax.set_ylabel('Percentage')\n",
        "ax.set_xlabel('Month')\n",
        "plt.style.use('seaborn-white')\n",
        "plt.xticks(np.arange(1,13,1))\n",
        "ax.set_xticklabels([\"Jan\",\"Feb\",\"Mar\",\"Apr\",\"May\",\"Jun\",\"Jul\",'Aug','Sep','Oct','Nov','Dec'])\n",
        "plt.title('Fraudulent vs Non-Fraudulent Transactions per Month')\n",
        "plt.legend(title='Type', labels=['Fraud', 'Not Fraud'],loc='left')\n",
        "fig.savefig('./distmonth.png', bbox_inches='tight', dpi=600)"
      ],
      "metadata": {
        "id": "UT4ZesDgck-9",
        "colab": {
          "base_uri": "https://localhost:8080/",
          "height": 400
        },
        "outputId": "fba213d9-9b11-457d-dedd-2306b1e7641f"
      },
      "execution_count": 152,
      "outputs": [
        {
          "output_type": "display_data",
          "data": {
            "text/plain": [
              "<Figure size 720x432 with 1 Axes>"
            ],
            "image/png": "[encoded data removed]"
          },
          "metadata": {}
        }
      ]
    },
    {
      "cell_type": "code",
      "source": [
        "# genero vs fraud\n",
        "fig = plt.figure(figsize=(10,6))\n",
        "ax=sns.histplot(data=df_final, x=\"gender\", hue=\"is_fraud\", binwidth= 0.5, common_norm=False,stat='percent',multiple='dodge',palette='gist_gray', shrink=0.5)\n",
        "ax.set_ylabel('Porcentagem')\n",
        "ax.set_xlabel('Genero')\n",
        "plt.style.use('seaborn-white')\n",
        "plt.yticks(np.arange(0,80,10))\n",
        "plt.title('Fraudulent vs Non-Fraudulent Transactions per Gender')\n",
        "plt.legend(title='Type', labels=['Fraud', 'Not Fraud'])\n",
        "fig.savefig('./genero.png', bbox_inches='tight', dpi=600)"
      ],
      "metadata": {
        "id": "Drsv5beP4Cl3",
        "colab": {
          "base_uri": "https://localhost:8080/",
          "height": 400
        },
        "outputId": "e576d397-8ed4-49aa-f170-9e8225a998a4"
      },
      "execution_count": 153,
      "outputs": [
        {
          "output_type": "display_data",
          "data": {
            "text/plain": [
              "<Figure size 720x432 with 1 Axes>"
            ],
            "image/png": "[encoded data removed]"
          },
          "metadata": {}
        }
      ]
    },
    {
      "cell_type": "code",
      "source": [
        "# category vs fraud\n",
        "fig = plt.figure(figsize=(10,6))\n",
        "ax=sns.histplot(data=df_final, x=\"category\", hue=\"is_fraud\", common_norm=False,stat='percent',multiple='dodge',palette='gist_gray', shrink=0.5)\n",
        "ax.set_ylabel('Percentage')\n",
        "ax.set_xlabel('Categories')\n",
        "plt.style.use('seaborn-white')\n",
        "plt.xticks(rotation = 90) # Rotates X-Axis Ticks by 90-degrees\n",
        "plt.title('Merchant Category Distribution in Fraudulent vs Non-Fraudulent Transactions')\n",
        "plt.legend(title='Type', labels=['Fraud', 'Not Fraud'])\n",
        "fig.savefig('./categoryvf.png', bbox_inches='tight', dpi=600)"
      ],
      "metadata": {
        "id": "ArPyc7JLh2Cx",
        "colab": {
          "base_uri": "https://localhost:8080/",
          "height": 453
        },
        "outputId": "2d3ce081-65af-4d90-c7b0-54c31963b758"
      },
      "execution_count": 149,
      "outputs": [
        {
          "output_type": "display_data",
          "data": {
            "text/plain": [
              "<Figure size 720x432 with 1 Axes>"
            ],
            "image/png": "[encoded data removed]"
          },
          "metadata": {}
        }
      ]
    },
    {
      "cell_type": "code",
      "source": [
        "# age vs fraud\n",
        "fig = plt.figure(figsize=(10,6))\n",
        "ax=sns.kdeplot(x='age',data=df_final, hue='is_fraud', common_norm=False,palette='gist_gray')\n",
        "ax.set_xlabel('Credit Card Holder Age')\n",
        "ax.set_ylabel('Density')\n",
        "plt.style.use('seaborn-white')\n",
        "plt.xticks(np.arange(0,110,5))\n",
        "plt.title('Age Distribution in Fraudulent vs Non-Fraudulent Transactions')\n",
        "plt.legend(title='Type', labels=['Fraud', 'Not Fraud'])\n",
        "fig.savefig('./age.png', bbox_inches='tight', dpi=600)"
      ],
      "metadata": {
        "id": "PspVA1UeY2RV",
        "colab": {
          "base_uri": "https://localhost:8080/",
          "height": 400
        },
        "outputId": "c53ab61f-222c-4e76-a91c-19952dbe14a7"
      },
      "execution_count": 144,
      "outputs": [
        {
          "output_type": "display_data",
          "data": {
            "text/plain": [
              "<Figure size 720x432 with 1 Axes>"
            ],
            "image/png": "[encoded data removed]"
          },
          "metadata": {}
        }
      ]
    },
    {
      "cell_type": "code",
      "source": [
        "# repeated purchases vs fraude\n",
        "fig = plt.figure(figsize=(10,6))\n",
        "ax=sns.histplot(data=df_final, x=\"qty_purc_unti_now_store\", hue=\"is_fraud\", common_norm=False,stat='percent',multiple='dodge',palette='gist_gray', shrink=13)\n",
        "ax.set_ylabel('Percentage')\n",
        "ax.set_xlabel('Repeated purchases on a same merchant')\n",
        "plt.style.use('seaborn-white')\n",
        "plt.xticks(fontsize=10)\n",
        "plt.title('Repeated Purchases in Fraudulent vs Non-Fraudulent Transactions')\n",
        "plt.legend(fontsize=9, labels=['Fraud', 'Not Fraud'])\n",
        "fig.savefig('./merc_last_hour.png', bbox_inches='tight', dpi=600)"
      ],
      "metadata": {
        "id": "dl_XwqqmfoPA",
        "colab": {
          "base_uri": "https://localhost:8080/",
          "height": 400
        },
        "outputId": "acf63d80-17f2-4248-f766-7f0be2dda26e"
      },
      "execution_count": 146,
      "outputs": [
        {
          "output_type": "display_data",
          "data": {
            "text/plain": [
              "<Figure size 720x432 with 1 Axes>"
            ],
            "image/png": "[encoded data removed]"
          },
          "metadata": {}
        }
      ]
    }
  ]
}