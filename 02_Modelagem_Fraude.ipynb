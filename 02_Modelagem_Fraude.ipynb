{
  "cells": [
    {
      "cell_type": "code",
      "execution_count": null,
      "metadata": {
        "id": "KSzwuJmNVQzJ",
        "outputId": "11857976-335a-4b8e-c2bf-48695bdabb11"
      },
      "outputs": [
        {
          "name": "stderr",
          "output_type": "stream",
          "text": [
            "Enabling notebook extension jupyter-js-widgets/extension...\n",
            "      - Validating: ok\n"
          ]
        }
      ],
      "source": [
        "# imports\n",
        "import matplotlib.pyplot as plt\n",
        "import numpy as np\n",
        "import pandas as pd\n",
        "import seaborn as sns\n",
        "import xgboost as xgb\n",
        "import warnings\n",
        "from collections import Counter\n",
        "from hyperopt import fmin, hp, STATUS_OK, tpe, Trials\n",
        "from imblearn.over_sampling import ADASYN, SMOTE\n",
        "from math import ceil\n",
        "from sklearn.ensemble import RandomForestClassifier\n",
        "from sklearn.feature_selection import mutual_info_classif as mic\n",
        "from sklearn.feature_selection import SelectPercentile\n",
        "from sklearn.metrics import classification_report, recall_score, roc_auc_score, roc_curve, plot_confusion_matrix, confusion_matrix\n",
        "from sklearn.model_selection import cross_val_score\n",
        "from sklearn.preprocessing import OneHotEncoder\n",
        "\n",
        "# Settings\n",
        "pd.pandas.set_option('display.max_columns', None)\n",
        "warnings.filterwarnings('ignore')\n",
        "!jupyter nbextension enable --py widgetsnbextension"
      ]
    },
    {
      "cell_type": "code",
      "execution_count": null,
      "metadata": {
        "id": "3YT7yfhbVQzT"
      },
      "outputs": [],
      "source": [
        "# Functions\n",
        "def train_test_split_chrono(X, y, test_size, dates):\n",
        "    n_test = ceil(test_size * len(X))\n",
        "\n",
        "    sorted_index = [x for _, x in sorted(zip(np.array(dates), np.arange(0, len(dates))), key=lambda pair: pair[0])]\n",
        "    train_idx = sorted_index[:-n_test]\n",
        "    test_idx = sorted_index[-n_test:]\n",
        "\n",
        "    if isinstance(X, (pd.Series, pd.DataFrame)):\n",
        "        X_train = X.iloc[train_idx]\n",
        "        X_test = X.iloc[test_idx]\n",
        "    else:\n",
        "        X_train = X[train_idx]\n",
        "        X_test = X[test_idx]\n",
        "    if isinstance(y, (pd.Series, pd.DataFrame)):\n",
        "        y_train = y.iloc[train_idx]\n",
        "        y_test = y.iloc[test_idx]\n",
        "    else:\n",
        "        y_train = y[train_idx]\n",
        "        y_test = y[test_idx]\n",
        "\n",
        "    return X_train, X_test, y_train, y_test\n",
        "\n",
        "\n",
        "def vif(feats, data):\n",
        "    from sklearn.linear_model import LinearRegression\n",
        "    \n",
        "    # initialize dictionaries\n",
        "    vif_dict, tolerance_dict = {}, {}\n",
        "\n",
        "    # form input data for each exogenous variable\n",
        "    for feat in feats:\n",
        "        not_feat = [i for i in feats if i != feat]\n",
        "        X, y = data[not_feat], data[feat]\n",
        "\n",
        "        # extract r-squared from the fit\n",
        "        r_squared = LinearRegression().fit(X, y).score(X, y)\n",
        "\n",
        "        # calculate VIF\n",
        "        vif = 1/(1 - r_squared)\n",
        "        vif_dict[feat] = vif\n",
        "\n",
        "        # calculate tolerance\n",
        "        tolerance = 1 - r_squared\n",
        "        tolerance_dict[feat] = tolerance\n",
        "\n",
        "    # return VIF DataFrame\n",
        "    df_vif = pd.DataFrame({'VIF': vif_dict, 'Tolerance': tolerance_dict})\n",
        "\n",
        "    return df_vif\n",
        "\n",
        "\n",
        "def evaluate_model(mode, y_true, y_pred, y_proba):\n",
        "    print(f'=================== {mode} ===================')\n",
        "        \n",
        "    # Obtain ROC_AUC score\n",
        "    roc_auc = roc_auc_score(y_true=y_true, y_score=y_proba[:,1])\n",
        "    print(f'{mode} ROC_AUC score: ', round(roc_auc, 2))\n",
        "    print(' ')\n",
        "    \n",
        "    report_train = classification_report(y_true,\n",
        "                                         y_pred,\n",
        "                                         target_names=['Legítima', 'Fraude'],\n",
        "                                         output_dict=True)\n",
        "\n",
        "    report_train = pd.DataFrame(report_train).transpose().apply(lambda x: x.apply('{0:.2f}'.format))\n",
        "    print(report_train)\n",
        "\n",
        "\n",
        "def get_confusion_matrix(mode, classifier, y_true, x_test):\n",
        "    fig, ax = plt.subplots(1, 1, figsize = (6,4))\n",
        "\n",
        "    plot_confusion_matrix(classifier, x_test, y_true, ax=ax, values_format='d')\n",
        "    ax.set_title(f'Confusion Matrix - {mode} Dataset'); \n",
        "    ax.xaxis.set_ticklabels(['Legítima', 'Fraude']); ax.yaxis.set_ticklabels(['Legítima', 'Fraude']);\n",
        "    plt.show()\n",
        "\n",
        "\n",
        "def get_confusion_matrix_2(y_true, y_pred, class_names=None, normalize=None,\n",
        "                          title='Confusion Matrix', plot_numbers=True, display_names=None,\n",
        "                          figsize=(6, 4)):\n",
        "\n",
        "    cm = confusion_matrix(y_true, y_pred, labels=class_names, normalize=normalize)\n",
        "    \n",
        "    if not display_names:\n",
        "        display_names = class_names\n",
        "    df_cm = pd.DataFrame(cm, index=display_names, columns=display_names)\n",
        "    fig = plt.figure(figsize=figsize)\n",
        "    sns.heatmap(df_cm, annot=plot_numbers, cmap='viridis', fmt='g')\n",
        "    plt.setp(plt.gca().get_xticklabels(), ha=\"right\", rotation=0)\n",
        "    plt.ylabel('True Label')\n",
        "    plt.xlabel('Predicted Label')\n",
        "    plt.title(title)\n",
        "    \n",
        "    plt.savefig('./conf_matrix_custom_tr', bbox_inches='tight', dpi=600)\n",
        "    plt.show()"
      ]
    },
    {
      "cell_type": "markdown",
      "metadata": {
        "id": "0YnlDQ_yVQzX"
      },
      "source": [
        "# Data Preprocessing"
      ]
    },
    {
      "cell_type": "code",
      "execution_count": null,
      "metadata": {
        "id": "M0SMsswYVQzd"
      },
      "outputs": [],
      "source": [
        "# Loading the dataset into a pandas dataframe\n",
        "df = pd.read_csv('./df_final.csv', encoding='utf-8')"
      ]
    },
    {
      "cell_type": "code",
      "execution_count": null,
      "metadata": {
        "id": "RMsl0RuWVQzf",
        "outputId": "675db5a7-bca3-4e80-dd40-37f4f8bf5edc"
      },
      "outputs": [
        {
          "data": {
            "text/plain": [
              "Index(['trans_date_trans_time', 'merchant', 'category', 'amt', 'gender',\n",
              "       'city', 'state', 'city_pop', 'unix_time', 'is_fraud', 'trans_hour',\n",
              "       'trans_week_day', 'trans_month', 'age', 'coor_customer',\n",
              "       'coor_merchant', 'dist_cus_merch', 'qty_purc_unti_now_store',\n",
              "       'qty_purc_last_hour_merc', 'qty_purc_last_hour', 'mean_spet_last_day',\n",
              "       'mean_spet_last_week', 'mean_spet_last_mont', 'sum_spet_last_mont'],\n",
              "      dtype='object')"
            ]
          },
          "execution_count": 4,
          "metadata": {},
          "output_type": "execute_result"
        }
      ],
      "source": [
        "# Getting variables names\n",
        "df.columns"
      ]
    },
    {
      "cell_type": "code",
      "execution_count": null,
      "metadata": {
        "id": "04kzDk50VQzh"
      },
      "outputs": [],
      "source": [
        "df.drop(['merchant', 'coor_customer', 'coor_merchant', 'city', 'state'], axis=1, inplace=True)"
      ]
    },
    {
      "cell_type": "code",
      "execution_count": null,
      "metadata": {
        "id": "_C9vKO-KVQzj"
      },
      "outputs": [],
      "source": [
        "# Splitting the data in train and test sets\n",
        "X_train, X_test, y_train, y_test = train_test_split_chrono(df.drop(['is_fraud', 'trans_date_trans_time'], axis=1),\n",
        "                                                    df['is_fraud'],\n",
        "                                                    test_size=0.3,\n",
        "                                                    dates=df['trans_date_trans_time'])"
      ]
    },
    {
      "cell_type": "code",
      "execution_count": null,
      "metadata": {
        "id": "EmuQRGgVVQzl"
      },
      "outputs": [],
      "source": [
        "# Categorial features\n",
        "cat_features = ['category', 'gender', 'trans_week_day', 'trans_month']\n",
        "\n",
        "# Instantiate the encoder and fit\n",
        "ohe = OneHotEncoder(handle_unknown='ignore')\n",
        "ohe.fit(X_train[cat_features])\n",
        "\n",
        "# Get feat names\n",
        "columns_names = ohe.get_feature_names_out()\n",
        "\n",
        "# Transforms the training features \n",
        "dummies_train = ohe.transform(X_train[cat_features])\n",
        "dummies_train = pd.DataFrame.sparse.from_spmatrix(dummies_train, columns=columns_names)\n",
        "\n",
        "# Enconding test set\n",
        "dummies_test = ohe.transform(X_test[cat_features])\n",
        "dummies_test = pd.DataFrame.sparse.from_spmatrix(dummies_test, columns=columns_names)"
      ]
    },
    {
      "cell_type": "code",
      "execution_count": null,
      "metadata": {
        "id": "y9UZVn6LVQzp"
      },
      "outputs": [],
      "source": [
        "# Reseting indexes\n",
        "X_train.reset_index(drop=True, inplace=True)\n",
        "X_test.reset_index(drop=True, inplace=True)\n",
        "\n",
        "# Assembles transformed train dataset\n",
        "X_train_dum = pd.concat([X_train, dummies_train], axis=1)\n",
        "X_train_dum = X_train_dum.drop(cat_features, axis=1)\n",
        "\n",
        "# Assembles transformed test dataset\n",
        "X_test_dum = pd.concat([X_test, dummies_test], axis=1)\n",
        "X_test_dum = X_test_dum.drop(cat_features, axis=1)"
      ]
    },
    {
      "cell_type": "markdown",
      "metadata": {
        "id": "zbx2PLdyVQzr"
      },
      "source": [
        "# Feature Selection - Mutual Information"
      ]
    },
    {
      "cell_type": "code",
      "execution_count": null,
      "metadata": {
        "id": "0NEbcwP0VQzs",
        "outputId": "a6773954-617e-4746-b5d8-46b7c28fb44f"
      },
      "outputs": [
        {
          "name": "stdout",
          "output_type": "stream",
          "text": [
            "Wall time: 19min 11s\n"
          ]
        }
      ],
      "source": [
        "# Filtering method for feature selection\n",
        "mutual_info = mic(X_train_dum, y_train)\n",
        "mutual_info = pd.Series(mutual_info)\n",
        "mutual_info.index = X_train_dum.columns\n",
        "mutual_info.sort_values(ascending=False, inplace=True)\n",
        "df_mi = pd.DataFrame(mutual_info, columns=['Mutual Information'])"
      ]
    },
    {
      "cell_type": "code",
      "execution_count": null,
      "metadata": {
        "id": "DlL3HrS_VQzt"
      },
      "outputs": [],
      "source": [
        "# Plot calculated MI\n",
        "ax = df_mi.iloc[:12,:].plot.bar(figsize=(8, 6), color='gray')\n",
        "\n",
        "\n",
        "ax.figure.savefig('./mutual_information.png', bbox_inches='tight', dpi=600)"
      ]
    },
    {
      "cell_type": "code",
      "execution_count": null,
      "metadata": {
        "scrolled": true,
        "id": "inGKW6wpVQzu",
        "outputId": "f0206272-81e4-4155-a6eb-fad74db35fe3"
      },
      "outputs": [
        {
          "name": "stdout",
          "output_type": "stream",
          "text": [
            "===== 12 features were selected =====\n",
            "amt, trans_hour, qty_purc_unti_now_store, qty_purc_last_hour_merc, qty_purc_last_hour, mean_spet_last_day, mean_spet_last_week, gender_F, gender_M, trans_week_day_Monday, trans_week_day_Saturday, trans_week_day_Sunday\n",
            "Wall time: 18min 5s\n"
          ]
        }
      ],
      "source": [
        "%%time\n",
        "\n",
        "# Selecting best 25% features\n",
        "percentile = SelectPercentile(mic, percentile=25).fit(X_train_dum, y_train)\n",
        "percentile_features = X_train_dum.columns[percentile.get_support()]\n",
        "print(f'===== {len(percentile_features)} features were selected =====')\n",
        "print(f\"{', '.join(percentile_features)}\")"
      ]
    },
    {
      "cell_type": "code",
      "execution_count": null,
      "metadata": {
        "id": "7SrMLQGQVQzv"
      },
      "outputs": [],
      "source": [
        "# Filtering test set\n",
        "X_train_new = X_train_dum[percentile_features]\n",
        "X_test_new = X_test_dum[percentile_features]"
      ]
    },
    {
      "cell_type": "code",
      "execution_count": null,
      "metadata": {
        "scrolled": false,
        "tags": [
          "hide-cell"
        ],
        "id": "kj9-xulKVQzx",
        "outputId": "a9746580-37eb-468c-c051-f67dd14fb09f"
      },
      "outputs": [
        {
          "data": {
            "text/html": [
              "<div>\n",
              "<style scoped>\n",
              "    .dataframe tbody tr th:only-of-type {\n",
              "        vertical-align: middle;\n",
              "    }\n",
              "\n",
              "    .dataframe tbody tr th {\n",
              "        vertical-align: top;\n",
              "    }\n",
              "\n",
              "    .dataframe thead th {\n",
              "        text-align: right;\n",
              "    }\n",
              "</style>\n",
              "<table border=\"1\" class=\"dataframe\">\n",
              "  <thead>\n",
              "    <tr style=\"text-align: right;\">\n",
              "      <th></th>\n",
              "      <th>VIF</th>\n",
              "      <th>Tolerance</th>\n",
              "    </tr>\n",
              "  </thead>\n",
              "  <tbody>\n",
              "    <tr>\n",
              "      <th>amt</th>\n",
              "      <td>1.5</td>\n",
              "      <td>0.7</td>\n",
              "    </tr>\n",
              "    <tr>\n",
              "      <th>trans_hour</th>\n",
              "      <td>1.0</td>\n",
              "      <td>1.0</td>\n",
              "    </tr>\n",
              "    <tr>\n",
              "      <th>qty_purc_unti_now_store</th>\n",
              "      <td>1.0</td>\n",
              "      <td>1.0</td>\n",
              "    </tr>\n",
              "    <tr>\n",
              "      <th>qty_purc_last_hour_merc</th>\n",
              "      <td>1.0</td>\n",
              "      <td>1.0</td>\n",
              "    </tr>\n",
              "    <tr>\n",
              "      <th>qty_purc_last_hour</th>\n",
              "      <td>1.0</td>\n",
              "      <td>1.0</td>\n",
              "    </tr>\n",
              "    <tr>\n",
              "      <th>mean_spet_last_day</th>\n",
              "      <td>1.8</td>\n",
              "      <td>0.6</td>\n",
              "    </tr>\n",
              "    <tr>\n",
              "      <th>mean_spet_last_week</th>\n",
              "      <td>1.3</td>\n",
              "      <td>0.8</td>\n",
              "    </tr>\n",
              "    <tr>\n",
              "      <th>gender_F</th>\n",
              "      <td>inf</td>\n",
              "      <td>0.0</td>\n",
              "    </tr>\n",
              "    <tr>\n",
              "      <th>gender_M</th>\n",
              "      <td>inf</td>\n",
              "      <td>0.0</td>\n",
              "    </tr>\n",
              "    <tr>\n",
              "      <th>trans_week_day_Monday</th>\n",
              "      <td>1.2</td>\n",
              "      <td>0.9</td>\n",
              "    </tr>\n",
              "    <tr>\n",
              "      <th>trans_week_day_Saturday</th>\n",
              "      <td>1.1</td>\n",
              "      <td>0.9</td>\n",
              "    </tr>\n",
              "    <tr>\n",
              "      <th>trans_week_day_Sunday</th>\n",
              "      <td>1.2</td>\n",
              "      <td>0.9</td>\n",
              "    </tr>\n",
              "  </tbody>\n",
              "</table>\n",
              "</div>"
            ],
            "text/plain": [
              "                         VIF Tolerance\n",
              "amt                      1.5       0.7\n",
              "trans_hour               1.0       1.0\n",
              "qty_purc_unti_now_store  1.0       1.0\n",
              "qty_purc_last_hour_merc  1.0       1.0\n",
              "qty_purc_last_hour       1.0       1.0\n",
              "mean_spet_last_day       1.8       0.6\n",
              "mean_spet_last_week      1.3       0.8\n",
              "gender_F                 inf       0.0\n",
              "gender_M                 inf       0.0\n",
              "trans_week_day_Monday    1.2       0.9\n",
              "trans_week_day_Saturday  1.1       0.9\n",
              "trans_week_day_Sunday    1.2       0.9"
            ]
          },
          "execution_count": 14,
          "metadata": {},
          "output_type": "execute_result"
        }
      ],
      "source": [
        "# Checking multicollinearity\n",
        "df_vif = vif(feats=percentile_features, data=X_train_new)\n",
        "\n",
        "# VIF for input dataset\n",
        "df_vif.apply(lambda x: x.apply('{0:.1f}'.format))"
      ]
    },
    {
      "cell_type": "code",
      "execution_count": null,
      "metadata": {
        "id": "oLZrZVx8VQzx"
      },
      "outputs": [],
      "source": [
        "# VIF greater than 5 are correlated\n",
        "df_vif.drop(['gender_M'], axis=0, inplace=True)"
      ]
    },
    {
      "cell_type": "code",
      "execution_count": null,
      "metadata": {
        "id": "FqD3BdOfVQzy",
        "outputId": "fa6655ab-671d-47c2-fd41-bad2d59c550d"
      },
      "outputs": [
        {
          "data": {
            "text/html": [
              "<div>\n",
              "<style scoped>\n",
              "    .dataframe tbody tr th:only-of-type {\n",
              "        vertical-align: middle;\n",
              "    }\n",
              "\n",
              "    .dataframe tbody tr th {\n",
              "        vertical-align: top;\n",
              "    }\n",
              "\n",
              "    .dataframe thead th {\n",
              "        text-align: right;\n",
              "    }\n",
              "</style>\n",
              "<table border=\"1\" class=\"dataframe\">\n",
              "  <thead>\n",
              "    <tr style=\"text-align: right;\">\n",
              "      <th></th>\n",
              "      <th>VIF</th>\n",
              "      <th>Tolerance</th>\n",
              "    </tr>\n",
              "  </thead>\n",
              "  <tbody>\n",
              "    <tr>\n",
              "      <th>amt</th>\n",
              "      <td>1.5</td>\n",
              "      <td>0.7</td>\n",
              "    </tr>\n",
              "    <tr>\n",
              "      <th>trans_hour</th>\n",
              "      <td>1.0</td>\n",
              "      <td>1.0</td>\n",
              "    </tr>\n",
              "    <tr>\n",
              "      <th>qty_purc_unti_now_store</th>\n",
              "      <td>1.0</td>\n",
              "      <td>1.0</td>\n",
              "    </tr>\n",
              "    <tr>\n",
              "      <th>qty_purc_last_hour_merc</th>\n",
              "      <td>1.0</td>\n",
              "      <td>1.0</td>\n",
              "    </tr>\n",
              "    <tr>\n",
              "      <th>qty_purc_last_hour</th>\n",
              "      <td>1.0</td>\n",
              "      <td>1.0</td>\n",
              "    </tr>\n",
              "    <tr>\n",
              "      <th>mean_spet_last_day</th>\n",
              "      <td>1.8</td>\n",
              "      <td>0.6</td>\n",
              "    </tr>\n",
              "    <tr>\n",
              "      <th>mean_spet_last_week</th>\n",
              "      <td>1.3</td>\n",
              "      <td>0.8</td>\n",
              "    </tr>\n",
              "    <tr>\n",
              "      <th>gender_F</th>\n",
              "      <td>1.0</td>\n",
              "      <td>1.0</td>\n",
              "    </tr>\n",
              "    <tr>\n",
              "      <th>trans_week_day_Monday</th>\n",
              "      <td>1.2</td>\n",
              "      <td>0.9</td>\n",
              "    </tr>\n",
              "    <tr>\n",
              "      <th>trans_week_day_Saturday</th>\n",
              "      <td>1.1</td>\n",
              "      <td>0.9</td>\n",
              "    </tr>\n",
              "    <tr>\n",
              "      <th>trans_week_day_Sunday</th>\n",
              "      <td>1.2</td>\n",
              "      <td>0.9</td>\n",
              "    </tr>\n",
              "  </tbody>\n",
              "</table>\n",
              "</div>"
            ],
            "text/plain": [
              "                         VIF Tolerance\n",
              "amt                      1.5       0.7\n",
              "trans_hour               1.0       1.0\n",
              "qty_purc_unti_now_store  1.0       1.0\n",
              "qty_purc_last_hour_merc  1.0       1.0\n",
              "qty_purc_last_hour       1.0       1.0\n",
              "mean_spet_last_day       1.8       0.6\n",
              "mean_spet_last_week      1.3       0.8\n",
              "gender_F                 1.0       1.0\n",
              "trans_week_day_Monday    1.2       0.9\n",
              "trans_week_day_Saturday  1.1       0.9\n",
              "trans_week_day_Sunday    1.2       0.9"
            ]
          },
          "execution_count": 19,
          "metadata": {},
          "output_type": "execute_result"
        }
      ],
      "source": [
        "# Checking multicollinearity\n",
        "df_vif = vif(feats=df_vif.index.values, data=X_train_new)\n",
        "\n",
        "# VIF for input dataset\n",
        "df_vif.apply(lambda x: x.apply('{0:.1f}'.format))"
      ]
    },
    {
      "cell_type": "code",
      "execution_count": null,
      "metadata": {
        "id": "5cfRIbDeVQzz"
      },
      "outputs": [],
      "source": [
        "# Filtering dataset with uncorrelated features\n",
        "X_train_new = X_train_new[list(df_vif.index.values)]\n",
        "X_test_new = X_test_new[list(df_vif.index.values)]"
      ]
    },
    {
      "cell_type": "code",
      "execution_count": null,
      "metadata": {
        "id": "G07A3rIVVQzz"
      },
      "outputs": [],
      "source": [
        "# Filtering dataset with uncorrelated features\n",
        "X_train_new = X_train_dum[subset]\n",
        "X_test_new = X_test_dum[subset]"
      ]
    },
    {
      "cell_type": "markdown",
      "metadata": {
        "id": "m5TLwpY5VQz0"
      },
      "source": [
        "# ADASYN"
      ]
    },
    {
      "cell_type": "code",
      "execution_count": null,
      "metadata": {
        "id": "oRVE5ZqEVQz1",
        "outputId": "3eeef85f-d3ca-46d1-a6b4-24f6956d95e7"
      },
      "outputs": [
        {
          "name": "stdout",
          "output_type": "stream",
          "text": [
            "Original dataset shape Counter({0: 1291079, 1: 7506})\n",
            "Resampled dataset shape Counter({0: 1291079, 1: 1291060})\n"
          ]
        }
      ],
      "source": [
        "print('Original dataset shape %s' % Counter(y_train))\n",
        "\n",
        "# Instatiates ADASYN\n",
        "ada_over = ADASYN(sampling_strategy='minority', random_state=18)\n",
        "\n",
        "X_ada, y_ada = ada_over.fit_resample(X_train_new, y_train)\n",
        "\n",
        "print('Resampled dataset shape %s' % Counter(y_ada))"
      ]
    },
    {
      "cell_type": "markdown",
      "metadata": {
        "id": "JMDATVTlVQz2"
      },
      "source": [
        "# SMOTE"
      ]
    },
    {
      "cell_type": "code",
      "execution_count": null,
      "metadata": {
        "id": "uhB8Hl2WVQz2",
        "outputId": "a8f6f9f7-0272-4dc8-8789-5bedc37b24c0"
      },
      "outputs": [
        {
          "name": "stdout",
          "output_type": "stream",
          "text": [
            "Original dataset shape Counter({0: 1291079, 1: 7506})\n",
            "Resampled dataset shape Counter({0: 1291079, 1: 1291079})\n"
          ]
        }
      ],
      "source": [
        "print('Original dataset shape %s' % Counter(y_train))\n",
        "\n",
        "# Instatiates SMOTE\n",
        "smt_over = SMOTE(sampling_strategy='minority', random_state=18)\n",
        "\n",
        "X_smt, y_smt = smt_over.fit_resample(X_train_new, y_train)\n",
        "\n",
        "print('Resampled dataset shape %s' % Counter(y_smt))"
      ]
    },
    {
      "cell_type": "markdown",
      "metadata": {
        "id": "2HybhTXRVQz4"
      },
      "source": [
        "# Random Forest\n",
        "## Random Forest + ADASYN"
      ]
    },
    {
      "cell_type": "code",
      "execution_count": null,
      "metadata": {
        "id": "JVrhd77NVQz4"
      },
      "outputs": [],
      "source": [
        "# Defines input values to test \n",
        "space = {'max_depth': hp.choice('max_depth', range(4, 8, 1)),\n",
        "         'max_features': hp.pchoice('max_features', [(0.5, 'sqrt'), # most common choice\n",
        "                                                     (0.4, 'log2'), # less common choice\n",
        "                                                     (0.1, None)]), # rare choice\n",
        "         'min_samples_leaf': hp.quniform ('min_samples_leaf', 18, 26, 1),\n",
        "         'min_samples_split' : hp.quniform ('min_samples_split', 22, 32, 1),\n",
        "         'n_estimators' : hp.choice('n_estimators', range(50, 250, 10))}"
      ]
    },
    {
      "cell_type": "code",
      "execution_count": null,
      "metadata": {
        "id": "0fEviH3pVQz5"
      },
      "outputs": [],
      "source": [
        "# Defines the loss function to minimize\n",
        "def objective(space):\n",
        "    # instantiate the algorithm\n",
        "    rf_cl = RandomForestClassifier(n_estimators=int(space['n_estimators']),\n",
        "                                   max_depth=int(space['max_depth']),\n",
        "                                   max_features=space['max_features'],\n",
        "                                   min_samples_split=int(space['min_samples_split']),\n",
        "                                   min_samples_leaf=int(space['min_samples_leaf']),\n",
        "                                   class_weight='balanced')\n",
        "    \n",
        "    # Cross validation\n",
        "    cv_score = cross_val_score(estimator=rf_cl,\n",
        "                               X=X_ada,\n",
        "                               y=y_ada,\n",
        "                               cv=3,\n",
        "                               scoring='roc_auc',\n",
        "                               n_jobs=-1,\n",
        "                               error_score='raise')\n",
        "    \n",
        "    # Calculate roc_auc mean on the folds\n",
        "    mean_cv_score = cv_score.mean()\n",
        "    \n",
        "    return {'loss': 1-mean_cv_score, 'status': STATUS_OK}"
      ]
    },
    {
      "cell_type": "code",
      "execution_count": null,
      "metadata": {
        "id": "eMVkkH2wVQz5",
        "outputId": "e106eee5-1c22-4055-decf-ec24d9542813"
      },
      "outputs": [
        {
          "name": "stdout",
          "output_type": "stream",
          "text": [
            "100%|████████████████████████████████████████████████| 5/5 [28:52<00:00, 346.45s/trial, best loss: 0.00829816004632844]\n"
          ]
        }
      ],
      "source": [
        "# Searching for best params\n",
        "trials = Trials()\n",
        "\n",
        "best = fmin(fn=objective,\n",
        "            space=space,\n",
        "            algo=tpe.suggest,\n",
        "            max_evals=5,\n",
        "            trials=trials,\n",
        "            rstate=np.random.default_rng(18),\n",
        "            return_argmin=False)"
      ]
    },
    {
      "cell_type": "code",
      "execution_count": null,
      "metadata": {
        "id": "_wo947gKVQz6",
        "outputId": "3ee369ee-c1ec-47b0-bfad-62abb60a56ab"
      },
      "outputs": [
        {
          "name": "stdout",
          "output_type": "stream",
          "text": [
            "Wall time: 2min 46s\n"
          ]
        },
        {
          "data": {
            "text/html": [
              "<style>#sk-container-id-2 {color: black;background-color: white;}#sk-container-id-2 pre{padding: 0;}#sk-container-id-2 div.sk-toggleable {background-color: white;}#sk-container-id-2 label.sk-toggleable__label {cursor: pointer;display: block;width: 100%;margin-bottom: 0;padding: 0.3em;box-sizing: border-box;text-align: center;}#sk-container-id-2 label.sk-toggleable__label-arrow:before {content: \"▸\";float: left;margin-right: 0.25em;color: #696969;}#sk-container-id-2 label.sk-toggleable__label-arrow:hover:before {color: black;}#sk-container-id-2 div.sk-estimator:hover label.sk-toggleable__label-arrow:before {color: black;}#sk-container-id-2 div.sk-toggleable__content {max-height: 0;max-width: 0;overflow: hidden;text-align: left;background-color: #f0f8ff;}#sk-container-id-2 div.sk-toggleable__content pre {margin: 0.2em;color: black;border-radius: 0.25em;background-color: #f0f8ff;}#sk-container-id-2 input.sk-toggleable__control:checked~div.sk-toggleable__content {max-height: 200px;max-width: 100%;overflow: auto;}#sk-container-id-2 input.sk-toggleable__control:checked~label.sk-toggleable__label-arrow:before {content: \"▾\";}#sk-container-id-2 div.sk-estimator input.sk-toggleable__control:checked~label.sk-toggleable__label {background-color: #d4ebff;}#sk-container-id-2 div.sk-label input.sk-toggleable__control:checked~label.sk-toggleable__label {background-color: #d4ebff;}#sk-container-id-2 input.sk-hidden--visually {border: 0;clip: rect(1px 1px 1px 1px);clip: rect(1px, 1px, 1px, 1px);height: 1px;margin: -1px;overflow: hidden;padding: 0;position: absolute;width: 1px;}#sk-container-id-2 div.sk-estimator {font-family: monospace;background-color: #f0f8ff;border: 1px dotted black;border-radius: 0.25em;box-sizing: border-box;margin-bottom: 0.5em;}#sk-container-id-2 div.sk-estimator:hover {background-color: #d4ebff;}#sk-container-id-2 div.sk-parallel-item::after {content: \"\";width: 100%;border-bottom: 1px solid gray;flex-grow: 1;}#sk-container-id-2 div.sk-label:hover label.sk-toggleable__label {background-color: #d4ebff;}#sk-container-id-2 div.sk-serial::before {content: \"\";position: absolute;border-left: 1px solid gray;box-sizing: border-box;top: 0;bottom: 0;left: 50%;z-index: 0;}#sk-container-id-2 div.sk-serial {display: flex;flex-direction: column;align-items: center;background-color: white;padding-right: 0.2em;padding-left: 0.2em;position: relative;}#sk-container-id-2 div.sk-item {position: relative;z-index: 1;}#sk-container-id-2 div.sk-parallel {display: flex;align-items: stretch;justify-content: center;background-color: white;position: relative;}#sk-container-id-2 div.sk-item::before, #sk-container-id-2 div.sk-parallel-item::before {content: \"\";position: absolute;border-left: 1px solid gray;box-sizing: border-box;top: 0;bottom: 0;left: 50%;z-index: -1;}#sk-container-id-2 div.sk-parallel-item {display: flex;flex-direction: column;z-index: 1;position: relative;background-color: white;}#sk-container-id-2 div.sk-parallel-item:first-child::after {align-self: flex-end;width: 50%;}#sk-container-id-2 div.sk-parallel-item:last-child::after {align-self: flex-start;width: 50%;}#sk-container-id-2 div.sk-parallel-item:only-child::after {width: 0;}#sk-container-id-2 div.sk-dashed-wrapped {border: 1px dashed gray;margin: 0 0.4em 0.5em 0.4em;box-sizing: border-box;padding-bottom: 0.4em;background-color: white;}#sk-container-id-2 div.sk-label label {font-family: monospace;font-weight: bold;display: inline-block;line-height: 1.2em;}#sk-container-id-2 div.sk-label-container {text-align: center;}#sk-container-id-2 div.sk-container {/* jupyter's `normalize.less` sets `[hidden] { display: none; }` but bootstrap.min.css set `[hidden] { display: none !important; }` so we also need the `!important` here to be able to override the default hidden behavior on the sphinx rendered scikit-learn.org. See: https://github.com/scikit-learn/scikit-learn/issues/21755 */display: inline-block !important;position: relative;}#sk-container-id-2 div.sk-text-repr-fallback {display: none;}</style><div id=\"sk-container-id-2\" class=\"sk-top-container\"><div class=\"sk-text-repr-fallback\"><pre>RandomForestClassifier(class_weight=&#x27;balanced&#x27;, max_depth=7,\n",
              "                       min_samples_leaf=24, min_samples_split=28, n_jobs=-1,\n",
              "                       random_state=18)</pre><b>In a Jupyter environment, please rerun this cell to show the HTML representation or trust the notebook. <br />On GitHub, the HTML representation is unable to render, please try loading this page with nbviewer.org.</b></div><div class=\"sk-container\" hidden><div class=\"sk-item\"><div class=\"sk-estimator sk-toggleable\"><input class=\"sk-toggleable__control sk-hidden--visually\" id=\"sk-estimator-id-2\" type=\"checkbox\" checked><label for=\"sk-estimator-id-2\" class=\"sk-toggleable__label sk-toggleable__label-arrow\">RandomForestClassifier</label><div class=\"sk-toggleable__content\"><pre>RandomForestClassifier(class_weight=&#x27;balanced&#x27;, max_depth=7,\n",
              "                       min_samples_leaf=24, min_samples_split=28, n_jobs=-1,\n",
              "                       random_state=18)</pre></div></div></div></div></div>"
            ],
            "text/plain": [
              "RandomForestClassifier(class_weight='balanced', max_depth=7,\n",
              "                       min_samples_leaf=24, min_samples_split=28, n_jobs=-1,\n",
              "                       random_state=18)"
            ]
          },
          "execution_count": 30,
          "metadata": {},
          "output_type": "execute_result"
        }
      ],
      "source": [
        "%%time\n",
        "\n",
        "# Best Adasyn RF\n",
        "ada_rf = RandomForestClassifier(n_estimators=best['n_estimators'],\n",
        "                               max_depth=best['max_depth'],\n",
        "                               max_features=best['max_features'],\n",
        "                               min_samples_split=int(best['min_samples_split']),\n",
        "                               min_samples_leaf=int(best['min_samples_leaf']),\n",
        "                               class_weight='balanced',\n",
        "                               n_jobs=-1,\n",
        "                               random_state=18)\n",
        "\n",
        "ada_rf.fit(X_ada, y_ada)"
      ]
    },
    {
      "cell_type": "markdown",
      "metadata": {
        "id": "LMLGF-jjVQz7"
      },
      "source": [
        "### Metrics"
      ]
    },
    {
      "cell_type": "code",
      "execution_count": null,
      "metadata": {
        "id": "i2V6N06gVQz7"
      },
      "outputs": [],
      "source": [
        "# Predict dataset\n",
        "train_pred_ada_rf = ada_rf.predict(X_ada)\n",
        "train_proba_ada_rf = ada_rf.predict_proba(X_ada)\n",
        "test_pred_ada_rf = ada_rf.predict(X_test_new)\n",
        "test_proba_ada_rf = ada_rf.predict_proba(X_test_new)"
      ]
    },
    {
      "cell_type": "code",
      "execution_count": null,
      "metadata": {
        "id": "MO0rSXKDVQz8",
        "outputId": "1fd867ae-2d0c-4a77-ebd0-43927d7a38a3"
      },
      "outputs": [
        {
          "name": "stdout",
          "output_type": "stream",
          "text": [
            "=================== TRAIN ===================\n",
            "TRAIN ROC_AUC score:  0.99\n",
            " \n",
            "             precision recall f1-score     support\n",
            "Legítima          0.96   0.97     0.96  1291079.00\n",
            "Fraude            0.96   0.96     0.96  1291060.00\n",
            "accuracy          0.96   0.96     0.96        0.96\n",
            "macro avg         0.96   0.96     0.96  2582139.00\n",
            "weighted avg      0.96   0.96     0.96  2582139.00\n"
          ]
        }
      ],
      "source": [
        "evaluate_model('TRAIN', y_ada, train_pred_ada_rf, train_proba_ada_rf)"
      ]
    },
    {
      "cell_type": "code",
      "execution_count": null,
      "metadata": {
        "id": "n_iq5VbmVQz8",
        "outputId": "73d1827c-2b61-4f31-ee38-3e08a81ed62e"
      },
      "outputs": [
        {
          "name": "stdout",
          "output_type": "stream",
          "text": [
            "=================== TEST ===================\n",
            "TEST ROC_AUC score:  0.99\n",
            " \n",
            "             precision recall f1-score    support\n",
            "Legítima          1.00   0.97     0.98  554392.00\n",
            "Fraude            0.10   0.94     0.18    2145.00\n",
            "accuracy          0.97   0.97     0.97       0.97\n",
            "macro avg         0.55   0.96     0.58  556537.00\n",
            "weighted avg      1.00   0.97     0.98  556537.00\n"
          ]
        }
      ],
      "source": [
        "evaluate_model('TEST', y_test, test_pred_ada_rf, test_proba_ada_rf)"
      ]
    },
    {
      "cell_type": "code",
      "execution_count": null,
      "metadata": {
        "id": "GfwXzWIfVQz9",
        "outputId": "b211a42a-b553-4b92-91a6-a34ddddceb9d"
      },
      "outputs": [
        {
          "data": {
            "image/png": "[encoded data removed]",
            "text/plain": [
              "<Figure size 432x288 with 2 Axes>"
            ]
          },
          "metadata": {
            "needs_background": "light"
          },
          "output_type": "display_data"
        }
      ],
      "source": [
        "get_confusion_matrix('TEST', ada_rf, y_test, X_test_new)"
      ]
    },
    {
      "cell_type": "markdown",
      "metadata": {
        "id": "FBRQtHMLVQz9"
      },
      "source": [
        "## Random Forest + SMOTE"
      ]
    },
    {
      "cell_type": "code",
      "execution_count": null,
      "metadata": {
        "id": "l5USCMOyVQz-"
      },
      "outputs": [],
      "source": [
        "# Defines the loss function to minimize\n",
        "def objective(space):\n",
        "    # instantiate the algorithm\n",
        "    rf_cl = RandomForestClassifier(n_estimators=int(space['n_estimators']),\n",
        "                                   max_depth=int(space['max_depth']),\n",
        "                                   max_features=space['max_features'],\n",
        "                                   min_samples_split=int(space['min_samples_split']),\n",
        "                                   min_samples_leaf=int(space['min_samples_leaf']),\n",
        "                                   class_weight='balanced')\n",
        "    \n",
        "    # Cross validation\n",
        "    cv_score = cross_val_score(estimator=rf_cl,\n",
        "                               X=X_smt,\n",
        "                               y=y_smt,\n",
        "                               cv=3,\n",
        "                               scoring='roc_auc',\n",
        "                               n_jobs=-1,\n",
        "                               error_score='raise')\n",
        "    \n",
        "    # Calculate roc_auc mean on the folds\n",
        "    mean_cv_score = cv_score.mean()\n",
        "    \n",
        "    return {'loss': 1-mean_cv_score, 'status': STATUS_OK}"
      ]
    },
    {
      "cell_type": "code",
      "execution_count": null,
      "metadata": {
        "id": "1PlEVLUiVQz-",
        "outputId": "5ae2915a-e6b5-4eaa-c4a0-6967efb85594"
      },
      "outputs": [
        {
          "name": "stdout",
          "output_type": "stream",
          "text": [
            "100%|██████████████████████████████████████████████| 5/5 [32:38<00:00, 391.69s/trial, best loss: 0.0036231625901016473]\n"
          ]
        }
      ],
      "source": [
        "# Searching for best params\n",
        "trials = Trials()\n",
        "\n",
        "best = fmin(fn=objective,\n",
        "            space=space,\n",
        "            algo=tpe.suggest,\n",
        "            max_evals=5,\n",
        "            trials=trials,\n",
        "            rstate=np.random.default_rng(18),\n",
        "            return_argmin=False)"
      ]
    },
    {
      "cell_type": "code",
      "execution_count": null,
      "metadata": {
        "id": "zVhDt-AlVQz_",
        "outputId": "40ec71e6-5fd3-45c9-9daa-93f0cca9431b"
      },
      "outputs": [
        {
          "name": "stdout",
          "output_type": "stream",
          "text": [
            "Wall time: 3min 23s\n"
          ]
        },
        {
          "data": {
            "text/html": [
              "<style>#sk-container-id-3 {color: black;background-color: white;}#sk-container-id-3 pre{padding: 0;}#sk-container-id-3 div.sk-toggleable {background-color: white;}#sk-container-id-3 label.sk-toggleable__label {cursor: pointer;display: block;width: 100%;margin-bottom: 0;padding: 0.3em;box-sizing: border-box;text-align: center;}#sk-container-id-3 label.sk-toggleable__label-arrow:before {content: \"▸\";float: left;margin-right: 0.25em;color: #696969;}#sk-container-id-3 label.sk-toggleable__label-arrow:hover:before {color: black;}#sk-container-id-3 div.sk-estimator:hover label.sk-toggleable__label-arrow:before {color: black;}#sk-container-id-3 div.sk-toggleable__content {max-height: 0;max-width: 0;overflow: hidden;text-align: left;background-color: #f0f8ff;}#sk-container-id-3 div.sk-toggleable__content pre {margin: 0.2em;color: black;border-radius: 0.25em;background-color: #f0f8ff;}#sk-container-id-3 input.sk-toggleable__control:checked~div.sk-toggleable__content {max-height: 200px;max-width: 100%;overflow: auto;}#sk-container-id-3 input.sk-toggleable__control:checked~label.sk-toggleable__label-arrow:before {content: \"▾\";}#sk-container-id-3 div.sk-estimator input.sk-toggleable__control:checked~label.sk-toggleable__label {background-color: #d4ebff;}#sk-container-id-3 div.sk-label input.sk-toggleable__control:checked~label.sk-toggleable__label {background-color: #d4ebff;}#sk-container-id-3 input.sk-hidden--visually {border: 0;clip: rect(1px 1px 1px 1px);clip: rect(1px, 1px, 1px, 1px);height: 1px;margin: -1px;overflow: hidden;padding: 0;position: absolute;width: 1px;}#sk-container-id-3 div.sk-estimator {font-family: monospace;background-color: #f0f8ff;border: 1px dotted black;border-radius: 0.25em;box-sizing: border-box;margin-bottom: 0.5em;}#sk-container-id-3 div.sk-estimator:hover {background-color: #d4ebff;}#sk-container-id-3 div.sk-parallel-item::after {content: \"\";width: 100%;border-bottom: 1px solid gray;flex-grow: 1;}#sk-container-id-3 div.sk-label:hover label.sk-toggleable__label {background-color: #d4ebff;}#sk-container-id-3 div.sk-serial::before {content: \"\";position: absolute;border-left: 1px solid gray;box-sizing: border-box;top: 0;bottom: 0;left: 50%;z-index: 0;}#sk-container-id-3 div.sk-serial {display: flex;flex-direction: column;align-items: center;background-color: white;padding-right: 0.2em;padding-left: 0.2em;position: relative;}#sk-container-id-3 div.sk-item {position: relative;z-index: 1;}#sk-container-id-3 div.sk-parallel {display: flex;align-items: stretch;justify-content: center;background-color: white;position: relative;}#sk-container-id-3 div.sk-item::before, #sk-container-id-3 div.sk-parallel-item::before {content: \"\";position: absolute;border-left: 1px solid gray;box-sizing: border-box;top: 0;bottom: 0;left: 50%;z-index: -1;}#sk-container-id-3 div.sk-parallel-item {display: flex;flex-direction: column;z-index: 1;position: relative;background-color: white;}#sk-container-id-3 div.sk-parallel-item:first-child::after {align-self: flex-end;width: 50%;}#sk-container-id-3 div.sk-parallel-item:last-child::after {align-self: flex-start;width: 50%;}#sk-container-id-3 div.sk-parallel-item:only-child::after {width: 0;}#sk-container-id-3 div.sk-dashed-wrapped {border: 1px dashed gray;margin: 0 0.4em 0.5em 0.4em;box-sizing: border-box;padding-bottom: 0.4em;background-color: white;}#sk-container-id-3 div.sk-label label {font-family: monospace;font-weight: bold;display: inline-block;line-height: 1.2em;}#sk-container-id-3 div.sk-label-container {text-align: center;}#sk-container-id-3 div.sk-container {/* jupyter's `normalize.less` sets `[hidden] { display: none; }` but bootstrap.min.css set `[hidden] { display: none !important; }` so we also need the `!important` here to be able to override the default hidden behavior on the sphinx rendered scikit-learn.org. See: https://github.com/scikit-learn/scikit-learn/issues/21755 */display: inline-block !important;position: relative;}#sk-container-id-3 div.sk-text-repr-fallback {display: none;}</style><div id=\"sk-container-id-3\" class=\"sk-top-container\"><div class=\"sk-text-repr-fallback\"><pre>RandomForestClassifier(class_weight=&#x27;balanced&#x27;, max_depth=7,\n",
              "                       min_samples_leaf=24, min_samples_split=28, n_jobs=-1,\n",
              "                       random_state=18)</pre><b>In a Jupyter environment, please rerun this cell to show the HTML representation or trust the notebook. <br />On GitHub, the HTML representation is unable to render, please try loading this page with nbviewer.org.</b></div><div class=\"sk-container\" hidden><div class=\"sk-item\"><div class=\"sk-estimator sk-toggleable\"><input class=\"sk-toggleable__control sk-hidden--visually\" id=\"sk-estimator-id-3\" type=\"checkbox\" checked><label for=\"sk-estimator-id-3\" class=\"sk-toggleable__label sk-toggleable__label-arrow\">RandomForestClassifier</label><div class=\"sk-toggleable__content\"><pre>RandomForestClassifier(class_weight=&#x27;balanced&#x27;, max_depth=7,\n",
              "                       min_samples_leaf=24, min_samples_split=28, n_jobs=-1,\n",
              "                       random_state=18)</pre></div></div></div></div></div>"
            ],
            "text/plain": [
              "RandomForestClassifier(class_weight='balanced', max_depth=7,\n",
              "                       min_samples_leaf=24, min_samples_split=28, n_jobs=-1,\n",
              "                       random_state=18)"
            ]
          },
          "execution_count": 38,
          "metadata": {},
          "output_type": "execute_result"
        }
      ],
      "source": [
        "%%time\n",
        "\n",
        "# Best Smote RF\n",
        "smt_rf = RandomForestClassifier(n_estimators=best['n_estimators'],\n",
        "                               max_depth=best['max_depth'],\n",
        "                               max_features=best['max_features'],\n",
        "                               min_samples_split=int(best['min_samples_split']),\n",
        "                               min_samples_leaf=int(best['min_samples_leaf']),\n",
        "                               class_weight='balanced',\n",
        "                               n_jobs=-1,\n",
        "                               random_state=18)\n",
        "\n",
        "smt_rf.fit(X_smt, y_smt)"
      ]
    },
    {
      "cell_type": "markdown",
      "metadata": {
        "id": "KqM0pIVtVQ0A"
      },
      "source": [
        "### Metrics"
      ]
    },
    {
      "cell_type": "code",
      "execution_count": null,
      "metadata": {
        "id": "AYz9XW1tVQ0A"
      },
      "outputs": [],
      "source": [
        "# Predict test dataset\n",
        "train_pred_smt_rf = smt_rf.predict(X_smt)\n",
        "train_proba_smt_rf = smt_rf.predict_proba(X_smt)\n",
        "test_pred_smt_rf = smt_rf.predict(X_test_new)\n",
        "test_proba_smt_rf = smt_rf.predict_proba(X_test_new)"
      ]
    },
    {
      "cell_type": "code",
      "execution_count": null,
      "metadata": {
        "id": "7jhgqOZUVQ0A",
        "outputId": "9da9c3b4-a9f2-45ca-b5eb-90498c2c8eb3"
      },
      "outputs": [
        {
          "name": "stdout",
          "output_type": "stream",
          "text": [
            "=================== TRAIN ===================\n",
            "TRAIN ROC_AUC score:  1.0\n",
            " \n",
            "             precision recall f1-score     support\n",
            "Legítima          0.97   0.98     0.97  1291079.00\n",
            "Fraude            0.98   0.97     0.97  1291079.00\n",
            "accuracy          0.97   0.97     0.97        0.97\n",
            "macro avg         0.97   0.97     0.97  2582158.00\n",
            "weighted avg      0.97   0.97     0.97  2582158.00\n"
          ]
        }
      ],
      "source": [
        "evaluate_model('TRAIN', y_smt, train_pred_smt_rf, train_proba_smt_rf)"
      ]
    },
    {
      "cell_type": "code",
      "execution_count": null,
      "metadata": {
        "id": "nuKnpkCSVQ0B",
        "outputId": "b415bbac-e8bd-471e-bfc3-ea757748ec8d"
      },
      "outputs": [
        {
          "name": "stdout",
          "output_type": "stream",
          "text": [
            "=================== TEST ===================\n",
            "TEST ROC_AUC score:  0.99\n",
            " \n",
            "             precision recall f1-score    support\n",
            "Legítima          1.00   0.97     0.98  554392.00\n",
            "Fraude            0.10   0.94     0.18    2145.00\n",
            "accuracy          0.97   0.97     0.97       0.97\n",
            "macro avg         0.55   0.96     0.58  556537.00\n",
            "weighted avg      1.00   0.97     0.98  556537.00\n"
          ]
        }
      ],
      "source": [
        "evaluate_model('TEST', y_test, test_pred_ada_rf, test_proba_smt_rf)"
      ]
    },
    {
      "cell_type": "code",
      "execution_count": null,
      "metadata": {
        "id": "nwi_VqJtVQ0B",
        "outputId": "0e56d15a-5c78-48b5-dce0-607ea4da78a2"
      },
      "outputs": [
        {
          "data": {
            "image/png": "[encoded data removed]",
            "text/plain": [
              "<Figure size 432x288 with 2 Axes>"
            ]
          },
          "metadata": {
            "needs_background": "light"
          },
          "output_type": "display_data"
        }
      ],
      "source": [
        "get_confusion_matrix('TEST', smt_rf, y_test, X_test_new)"
      ]
    },
    {
      "cell_type": "markdown",
      "metadata": {
        "id": "maoLlr_oVQ0C"
      },
      "source": [
        "# XGBoost\n",
        "## XGBoost + ADASYN"
      ]
    },
    {
      "cell_type": "code",
      "execution_count": null,
      "metadata": {
        "id": "vbNhEmCMVQ0C"
      },
      "outputs": [],
      "source": [
        "# Defines input values to test \n",
        "space={'max_depth': hp.choice('max_depth', np.arange(2, 10, dtype=int)),\n",
        "        'gamma': hp.quniform('gamma', 0, 1, 0.05),\n",
        "        'reg_alpha': hp.quniform('reg_alpha', 40, 180, 1),\n",
        "        'reg_lambda': hp.uniform('reg_lambda', 0, 1),\n",
        "        'colsample_bytree' : hp.quniform('colsample_bytree', 0.1, 1.0, 0.05),\n",
        "        'min_child_weight' : hp.quniform('min_child_weight', 0, 10, 1),\n",
        "        'n_estimators': hp.quniform('n_estimators', 10, 200, 5),\n",
        "        'learning_rate' : hp.quniform('learning_rate', 0.01, 0.5, 0.01),\n",
        "    }"
      ]
    },
    {
      "cell_type": "code",
      "execution_count": null,
      "metadata": {
        "id": "0Vql77XVVQ0D"
      },
      "outputs": [],
      "source": [
        "# Defines the loss function to minimize\n",
        "def objective(space):\n",
        "    # instantiate the algorithm\n",
        "    ada_xgb = xgb.XGBClassifier(max_depth=space['max_depth'],\n",
        "                                gamma=space['gamma'],\n",
        "                                reg_alpha=space['reg_alpha'],\n",
        "                                reg_lambda=space['reg_lambda'],\n",
        "                                colsample_bytree=space['colsample_bytree'],\n",
        "                                min_child_weight=space['min_child_weight'],\n",
        "                                n_estimators=int(space['n_estimators']),\n",
        "                                learning_rate=space['learning_rate'],\n",
        "                                objective='binary:logistic')\n",
        "    \n",
        "    # Cross validation\n",
        "    cv_score = cross_val_score(estimator=ada_xgb,\n",
        "                               X=X_ada,\n",
        "                               y=y_ada,\n",
        "                               cv=3,\n",
        "                               scoring='roc_auc',\n",
        "                               n_jobs=-1,\n",
        "                               error_score='raise')\n",
        "    \n",
        "    # Calculate roc_auc mean on the folds\n",
        "    mean_cv_score = cv_score.mean()\n",
        "    \n",
        "    return {'loss': 1-mean_cv_score, 'status': STATUS_OK}"
      ]
    },
    {
      "cell_type": "code",
      "execution_count": null,
      "metadata": {
        "id": "e1iKsFjfVQ0D",
        "outputId": "36f13d51-42db-4b6c-ed21-63b641bf5d61"
      },
      "outputs": [
        {
          "name": "stdout",
          "output_type": "stream",
          "text": [
            "100%|██████████████████████████████████████████████| 5/5 [20:36<00:00, 247.32s/trial, best loss: 0.0010796597624379567]\n"
          ]
        }
      ],
      "source": [
        "# Searching for best params\n",
        "trials = Trials()\n",
        "\n",
        "best = fmin(fn=objective,\n",
        "            space=space,\n",
        "            algo=tpe.suggest,\n",
        "            max_evals=5,\n",
        "            trials=trials,\n",
        "            rstate=np.random.default_rng(18),\n",
        "            return_argmin=False)"
      ]
    },
    {
      "cell_type": "code",
      "execution_count": null,
      "metadata": {
        "id": "l9WnToqXVQ0E",
        "outputId": "fb7c4548-ccc3-46b8-cbcb-e3b22f7d0cf5"
      },
      "outputs": [
        {
          "name": "stdout",
          "output_type": "stream",
          "text": [
            "[01:30:44] WARNING: C:/Users/Administrator/workspace/xgboost-win64_release_1.4.0/src/learner.cc:1095: Starting in XGBoost 1.3.0, the default evaluation metric used with the objective 'binary:logistic' was changed from 'error' to 'logloss'. Explicitly set eval_metric if you'd like to restore the old behavior.\n",
            "Wall time: 4min 41s\n"
          ]
        },
        {
          "data": {
            "text/html": [
              "<style>#sk-container-id-4 {color: black;background-color: white;}#sk-container-id-4 pre{padding: 0;}#sk-container-id-4 div.sk-toggleable {background-color: white;}#sk-container-id-4 label.sk-toggleable__label {cursor: pointer;display: block;width: 100%;margin-bottom: 0;padding: 0.3em;box-sizing: border-box;text-align: center;}#sk-container-id-4 label.sk-toggleable__label-arrow:before {content: \"▸\";float: left;margin-right: 0.25em;color: #696969;}#sk-container-id-4 label.sk-toggleable__label-arrow:hover:before {color: black;}#sk-container-id-4 div.sk-estimator:hover label.sk-toggleable__label-arrow:before {color: black;}#sk-container-id-4 div.sk-toggleable__content {max-height: 0;max-width: 0;overflow: hidden;text-align: left;background-color: #f0f8ff;}#sk-container-id-4 div.sk-toggleable__content pre {margin: 0.2em;color: black;border-radius: 0.25em;background-color: #f0f8ff;}#sk-container-id-4 input.sk-toggleable__control:checked~div.sk-toggleable__content {max-height: 200px;max-width: 100%;overflow: auto;}#sk-container-id-4 input.sk-toggleable__control:checked~label.sk-toggleable__label-arrow:before {content: \"▾\";}#sk-container-id-4 div.sk-estimator input.sk-toggleable__control:checked~label.sk-toggleable__label {background-color: #d4ebff;}#sk-container-id-4 div.sk-label input.sk-toggleable__control:checked~label.sk-toggleable__label {background-color: #d4ebff;}#sk-container-id-4 input.sk-hidden--visually {border: 0;clip: rect(1px 1px 1px 1px);clip: rect(1px, 1px, 1px, 1px);height: 1px;margin: -1px;overflow: hidden;padding: 0;position: absolute;width: 1px;}#sk-container-id-4 div.sk-estimator {font-family: monospace;background-color: #f0f8ff;border: 1px dotted black;border-radius: 0.25em;box-sizing: border-box;margin-bottom: 0.5em;}#sk-container-id-4 div.sk-estimator:hover {background-color: #d4ebff;}#sk-container-id-4 div.sk-parallel-item::after {content: \"\";width: 100%;border-bottom: 1px solid gray;flex-grow: 1;}#sk-container-id-4 div.sk-label:hover label.sk-toggleable__label {background-color: #d4ebff;}#sk-container-id-4 div.sk-serial::before {content: \"\";position: absolute;border-left: 1px solid gray;box-sizing: border-box;top: 0;bottom: 0;left: 50%;z-index: 0;}#sk-container-id-4 div.sk-serial {display: flex;flex-direction: column;align-items: center;background-color: white;padding-right: 0.2em;padding-left: 0.2em;position: relative;}#sk-container-id-4 div.sk-item {position: relative;z-index: 1;}#sk-container-id-4 div.sk-parallel {display: flex;align-items: stretch;justify-content: center;background-color: white;position: relative;}#sk-container-id-4 div.sk-item::before, #sk-container-id-4 div.sk-parallel-item::before {content: \"\";position: absolute;border-left: 1px solid gray;box-sizing: border-box;top: 0;bottom: 0;left: 50%;z-index: -1;}#sk-container-id-4 div.sk-parallel-item {display: flex;flex-direction: column;z-index: 1;position: relative;background-color: white;}#sk-container-id-4 div.sk-parallel-item:first-child::after {align-self: flex-end;width: 50%;}#sk-container-id-4 div.sk-parallel-item:last-child::after {align-self: flex-start;width: 50%;}#sk-container-id-4 div.sk-parallel-item:only-child::after {width: 0;}#sk-container-id-4 div.sk-dashed-wrapped {border: 1px dashed gray;margin: 0 0.4em 0.5em 0.4em;box-sizing: border-box;padding-bottom: 0.4em;background-color: white;}#sk-container-id-4 div.sk-label label {font-family: monospace;font-weight: bold;display: inline-block;line-height: 1.2em;}#sk-container-id-4 div.sk-label-container {text-align: center;}#sk-container-id-4 div.sk-container {/* jupyter's `normalize.less` sets `[hidden] { display: none; }` but bootstrap.min.css set `[hidden] { display: none !important; }` so we also need the `!important` here to be able to override the default hidden behavior on the sphinx rendered scikit-learn.org. See: https://github.com/scikit-learn/scikit-learn/issues/21755 */display: inline-block !important;position: relative;}#sk-container-id-4 div.sk-text-repr-fallback {display: none;}</style><div id=\"sk-container-id-4\" class=\"sk-top-container\"><div class=\"sk-text-repr-fallback\"><pre>XGBClassifier(base_score=0.5, booster=&#x27;gbtree&#x27;, colsample_bylevel=1,\n",
              "              colsample_bynode=1, colsample_bytree=0.55,\n",
              "              gamma=0.15000000000000002, gpu_id=-1, importance_type=&#x27;gain&#x27;,\n",
              "              interaction_constraints=&#x27;&#x27;, learning_rate=0.28, max_delta_step=0,\n",
              "              max_depth=8, min_child_weight=1.0, missing=nan,\n",
              "              monotone_constraints=&#x27;()&#x27;, n_estimators=95, n_jobs=-1,\n",
              "              num_parallel_tree=1, random_state=18, reg_alpha=118.0,\n",
              "              reg_lambda=0.03392680436423523, scale_pos_weight=1, subsample=1,\n",
              "              tree_method=&#x27;exact&#x27;, validate_parameters=1, verbosity=None)</pre><b>In a Jupyter environment, please rerun this cell to show the HTML representation or trust the notebook. <br />On GitHub, the HTML representation is unable to render, please try loading this page with nbviewer.org.</b></div><div class=\"sk-container\" hidden><div class=\"sk-item\"><div class=\"sk-estimator sk-toggleable\"><input class=\"sk-toggleable__control sk-hidden--visually\" id=\"sk-estimator-id-4\" type=\"checkbox\" checked><label for=\"sk-estimator-id-4\" class=\"sk-toggleable__label sk-toggleable__label-arrow\">XGBClassifier</label><div class=\"sk-toggleable__content\"><pre>XGBClassifier(base_score=0.5, booster=&#x27;gbtree&#x27;, colsample_bylevel=1,\n",
              "              colsample_bynode=1, colsample_bytree=0.55,\n",
              "              gamma=0.15000000000000002, gpu_id=-1, importance_type=&#x27;gain&#x27;,\n",
              "              interaction_constraints=&#x27;&#x27;, learning_rate=0.28, max_delta_step=0,\n",
              "              max_depth=8, min_child_weight=1.0, missing=nan,\n",
              "              monotone_constraints=&#x27;()&#x27;, n_estimators=95, n_jobs=-1,\n",
              "              num_parallel_tree=1, random_state=18, reg_alpha=118.0,\n",
              "              reg_lambda=0.03392680436423523, scale_pos_weight=1, subsample=1,\n",
              "              tree_method=&#x27;exact&#x27;, validate_parameters=1, verbosity=None)</pre></div></div></div></div></div>"
            ],
            "text/plain": [
              "XGBClassifier(base_score=0.5, booster='gbtree', colsample_bylevel=1,\n",
              "              colsample_bynode=1, colsample_bytree=0.55,\n",
              "              gamma=0.15000000000000002, gpu_id=-1, importance_type='gain',\n",
              "              interaction_constraints='', learning_rate=0.28, max_delta_step=0,\n",
              "              max_depth=8, min_child_weight=1.0, missing=nan,\n",
              "              monotone_constraints='()', n_estimators=95, n_jobs=-1,\n",
              "              num_parallel_tree=1, random_state=18, reg_alpha=118.0,\n",
              "              reg_lambda=0.03392680436423523, scale_pos_weight=1, subsample=1,\n",
              "              tree_method='exact', validate_parameters=1, verbosity=None)"
            ]
          },
          "execution_count": 46,
          "metadata": {},
          "output_type": "execute_result"
        }
      ],
      "source": [
        "%%time\n",
        "\n",
        "# Best Adasyn XGB\n",
        "ada_xgb = xgb.XGBClassifier(max_depth=int(best['max_depth']),\n",
        "                            gamma=best['gamma'],\n",
        "                            reg_alpha=best['reg_alpha'],\n",
        "                            reg_lambda=best['reg_lambda'],\n",
        "                            colsample_bytree=best['colsample_bytree'],\n",
        "                            min_child_weight=best['min_child_weight'],\n",
        "                            n_estimators=int(best['n_estimators']),\n",
        "                            learning_rate=best['learning_rate'],\n",
        "                            objective='binary:logistic',\n",
        "                            n_jobs=-1,\n",
        "                            random_state=18)\n",
        "\n",
        "ada_xgb.fit(X_ada, y_ada)"
      ]
    },
    {
      "cell_type": "markdown",
      "metadata": {
        "id": "MiAMnmFUVQ0E"
      },
      "source": [
        "### Metrics"
      ]
    },
    {
      "cell_type": "code",
      "execution_count": null,
      "metadata": {
        "id": "HYbYooYUVQ0F"
      },
      "outputs": [],
      "source": [
        "# Predict test dataset\n",
        "train_pred_ada_xgb = ada_xgb.predict(X_ada)\n",
        "train_proba_ada_xgb = ada_xgb.predict_proba(X_ada)\n",
        "test_pred_ada_xgb = ada_xgb.predict(X_test_new)\n",
        "test_proba_ada_xgb = ada_xgb.predict_proba(X_test_new)"
      ]
    },
    {
      "cell_type": "code",
      "execution_count": null,
      "metadata": {
        "id": "0CMr_919VQ0F",
        "outputId": "9b4efde8-5770-4e2e-95b0-cea42977247c"
      },
      "outputs": [
        {
          "name": "stdout",
          "output_type": "stream",
          "text": [
            "=================== TRAIN ===================\n",
            "TRAIN ROC_AUC score:  1.0\n",
            " \n",
            "             precision recall f1-score     support\n",
            "Legítima          1.00   0.99     0.99  1291079.00\n",
            "Fraude            0.99   1.00     0.99  1291060.00\n",
            "accuracy          0.99   0.99     0.99        0.99\n",
            "macro avg         0.99   0.99     0.99  2582139.00\n",
            "weighted avg      0.99   0.99     0.99  2582139.00\n"
          ]
        }
      ],
      "source": [
        "evaluate_model('TRAIN', y_ada, train_pred_ada_xgb, train_proba_ada_xgb)"
      ]
    },
    {
      "cell_type": "code",
      "execution_count": null,
      "metadata": {
        "id": "S7W7zsK-VQ0G",
        "outputId": "d29380dc-edcd-441c-a3bd-4806aa344130"
      },
      "outputs": [
        {
          "name": "stdout",
          "output_type": "stream",
          "text": [
            "=================== TEST ===================\n",
            "TEST ROC_AUC score:  0.99\n",
            " \n",
            "             precision recall f1-score    support\n",
            "Legítima          1.00   0.99     1.00  554392.00\n",
            "Fraude            0.30   0.89     0.45    2145.00\n",
            "accuracy          0.99   0.99     0.99       0.99\n",
            "macro avg         0.65   0.94     0.72  556537.00\n",
            "weighted avg      1.00   0.99     0.99  556537.00\n"
          ]
        }
      ],
      "source": [
        "evaluate_model('TEST', y_test, test_pred_ada_xgb, test_proba_ada_xgb)"
      ]
    },
    {
      "cell_type": "code",
      "execution_count": null,
      "metadata": {
        "id": "2FQxCAGjVQ0G",
        "outputId": "450f5855-1b19-4200-a80e-ad46346b9d81"
      },
      "outputs": [
        {
          "data": {
            "image/png": "[encoded data removed]",
            "text/plain": [
              "<Figure size 432x288 with 2 Axes>"
            ]
          },
          "metadata": {
            "needs_background": "light"
          },
          "output_type": "display_data"
        }
      ],
      "source": [
        "get_confusion_matrix('TEST', ada_xgb, y_test, X_test_new)"
      ]
    },
    {
      "cell_type": "markdown",
      "metadata": {
        "id": "A0IfiAn4VQ0H"
      },
      "source": [
        "## XGBoost + SMOTE"
      ]
    },
    {
      "cell_type": "code",
      "execution_count": null,
      "metadata": {
        "id": "gCahb5t3VQ0H"
      },
      "outputs": [],
      "source": [
        "# Defines the loss function to minimize\n",
        "def objective(space):\n",
        "    # instantiate the algorithm\n",
        "    smt_xgb = xgb.XGBClassifier(max_depth=space['max_depth'],\n",
        "                                gamma=space['gamma'],\n",
        "                                reg_alpha=space['reg_alpha'],\n",
        "                                reg_lambda=space['reg_lambda'],\n",
        "                                colsample_bytree=space['colsample_bytree'],\n",
        "                                min_child_weight=space['min_child_weight'],\n",
        "                                n_estimators=int(space['n_estimators']),\n",
        "                                learning_rate=space['learning_rate'],\n",
        "                                objective='binary:logistic')\n",
        "    \n",
        "    # Cross validation\n",
        "    cv_score = cross_val_score(estimator=smt_xgb,\n",
        "                               X=X_smt,\n",
        "                               y=y_smt,\n",
        "                               cv=3,\n",
        "                               scoring='roc_auc',\n",
        "                               n_jobs=-1,\n",
        "                               error_score='raise')\n",
        "    \n",
        "    # Calculate roc_auc mean on the folds\n",
        "    mean_cv_score = cv_score.mean()\n",
        "    \n",
        "    return {'loss': 1-mean_cv_score, 'status': STATUS_OK}"
      ]
    },
    {
      "cell_type": "code",
      "execution_count": null,
      "metadata": {
        "id": "K_EDaMlnVQ0I",
        "outputId": "f795f719-9317-4f18-aa73-34b0c4e91a27"
      },
      "outputs": [
        {
          "name": "stdout",
          "output_type": "stream",
          "text": [
            "100%|██████████████████████████████████████████████| 5/5 [23:26<00:00, 281.40s/trial, best loss: 0.0003413230049497118]\n"
          ]
        }
      ],
      "source": [
        "# Searching for best params\n",
        "trials = Trials()\n",
        "\n",
        "best = fmin(fn=objective,\n",
        "            space=space,\n",
        "            algo=tpe.suggest,\n",
        "            max_evals=5,\n",
        "            trials=trials,\n",
        "            rstate=np.random.default_rng(18),\n",
        "            return_argmin=False)"
      ]
    },
    {
      "cell_type": "code",
      "execution_count": null,
      "metadata": {
        "id": "A9zv7WGNVQ0J",
        "outputId": "53257119-2458-491d-8193-643f7086225c"
      },
      "outputs": [
        {
          "name": "stdout",
          "output_type": "stream",
          "text": [
            "[09:22:27] WARNING: C:/Users/Administrator/workspace/xgboost-win64_release_1.4.0/src/learner.cc:1095: Starting in XGBoost 1.3.0, the default evaluation metric used with the objective 'binary:logistic' was changed from 'error' to 'logloss'. Explicitly set eval_metric if you'd like to restore the old behavior.\n",
            "Wall time: 5min 2s\n"
          ]
        },
        {
          "data": {
            "text/html": [
              "<style>#sk-container-id-5 {color: black;background-color: white;}#sk-container-id-5 pre{padding: 0;}#sk-container-id-5 div.sk-toggleable {background-color: white;}#sk-container-id-5 label.sk-toggleable__label {cursor: pointer;display: block;width: 100%;margin-bottom: 0;padding: 0.3em;box-sizing: border-box;text-align: center;}#sk-container-id-5 label.sk-toggleable__label-arrow:before {content: \"▸\";float: left;margin-right: 0.25em;color: #696969;}#sk-container-id-5 label.sk-toggleable__label-arrow:hover:before {color: black;}#sk-container-id-5 div.sk-estimator:hover label.sk-toggleable__label-arrow:before {color: black;}#sk-container-id-5 div.sk-toggleable__content {max-height: 0;max-width: 0;overflow: hidden;text-align: left;background-color: #f0f8ff;}#sk-container-id-5 div.sk-toggleable__content pre {margin: 0.2em;color: black;border-radius: 0.25em;background-color: #f0f8ff;}#sk-container-id-5 input.sk-toggleable__control:checked~div.sk-toggleable__content {max-height: 200px;max-width: 100%;overflow: auto;}#sk-container-id-5 input.sk-toggleable__control:checked~label.sk-toggleable__label-arrow:before {content: \"▾\";}#sk-container-id-5 div.sk-estimator input.sk-toggleable__control:checked~label.sk-toggleable__label {background-color: #d4ebff;}#sk-container-id-5 div.sk-label input.sk-toggleable__control:checked~label.sk-toggleable__label {background-color: #d4ebff;}#sk-container-id-5 input.sk-hidden--visually {border: 0;clip: rect(1px 1px 1px 1px);clip: rect(1px, 1px, 1px, 1px);height: 1px;margin: -1px;overflow: hidden;padding: 0;position: absolute;width: 1px;}#sk-container-id-5 div.sk-estimator {font-family: monospace;background-color: #f0f8ff;border: 1px dotted black;border-radius: 0.25em;box-sizing: border-box;margin-bottom: 0.5em;}#sk-container-id-5 div.sk-estimator:hover {background-color: #d4ebff;}#sk-container-id-5 div.sk-parallel-item::after {content: \"\";width: 100%;border-bottom: 1px solid gray;flex-grow: 1;}#sk-container-id-5 div.sk-label:hover label.sk-toggleable__label {background-color: #d4ebff;}#sk-container-id-5 div.sk-serial::before {content: \"\";position: absolute;border-left: 1px solid gray;box-sizing: border-box;top: 0;bottom: 0;left: 50%;z-index: 0;}#sk-container-id-5 div.sk-serial {display: flex;flex-direction: column;align-items: center;background-color: white;padding-right: 0.2em;padding-left: 0.2em;position: relative;}#sk-container-id-5 div.sk-item {position: relative;z-index: 1;}#sk-container-id-5 div.sk-parallel {display: flex;align-items: stretch;justify-content: center;background-color: white;position: relative;}#sk-container-id-5 div.sk-item::before, #sk-container-id-5 div.sk-parallel-item::before {content: \"\";position: absolute;border-left: 1px solid gray;box-sizing: border-box;top: 0;bottom: 0;left: 50%;z-index: -1;}#sk-container-id-5 div.sk-parallel-item {display: flex;flex-direction: column;z-index: 1;position: relative;background-color: white;}#sk-container-id-5 div.sk-parallel-item:first-child::after {align-self: flex-end;width: 50%;}#sk-container-id-5 div.sk-parallel-item:last-child::after {align-self: flex-start;width: 50%;}#sk-container-id-5 div.sk-parallel-item:only-child::after {width: 0;}#sk-container-id-5 div.sk-dashed-wrapped {border: 1px dashed gray;margin: 0 0.4em 0.5em 0.4em;box-sizing: border-box;padding-bottom: 0.4em;background-color: white;}#sk-container-id-5 div.sk-label label {font-family: monospace;font-weight: bold;display: inline-block;line-height: 1.2em;}#sk-container-id-5 div.sk-label-container {text-align: center;}#sk-container-id-5 div.sk-container {/* jupyter's `normalize.less` sets `[hidden] { display: none; }` but bootstrap.min.css set `[hidden] { display: none !important; }` so we also need the `!important` here to be able to override the default hidden behavior on the sphinx rendered scikit-learn.org. See: https://github.com/scikit-learn/scikit-learn/issues/21755 */display: inline-block !important;position: relative;}#sk-container-id-5 div.sk-text-repr-fallback {display: none;}</style><div id=\"sk-container-id-5\" class=\"sk-top-container\"><div class=\"sk-text-repr-fallback\"><pre>XGBClassifier(base_score=0.5, booster=&#x27;gbtree&#x27;, colsample_bylevel=1,\n",
              "              colsample_bynode=1, colsample_bytree=0.55,\n",
              "              gamma=0.15000000000000002, gpu_id=-1, importance_type=&#x27;gain&#x27;,\n",
              "              interaction_constraints=&#x27;&#x27;, learning_rate=0.28, max_delta_step=0,\n",
              "              max_depth=8, min_child_weight=1.0, missing=nan,\n",
              "              monotone_constraints=&#x27;()&#x27;, n_estimators=95, n_jobs=-1,\n",
              "              num_parallel_tree=1, random_state=18, reg_alpha=118.0,\n",
              "              reg_lambda=0.03392680436423523, scale_pos_weight=1, subsample=1,\n",
              "              tree_method=&#x27;exact&#x27;, validate_parameters=1, verbosity=None)</pre><b>In a Jupyter environment, please rerun this cell to show the HTML representation or trust the notebook. <br />On GitHub, the HTML representation is unable to render, please try loading this page with nbviewer.org.</b></div><div class=\"sk-container\" hidden><div class=\"sk-item\"><div class=\"sk-estimator sk-toggleable\"><input class=\"sk-toggleable__control sk-hidden--visually\" id=\"sk-estimator-id-5\" type=\"checkbox\" checked><label for=\"sk-estimator-id-5\" class=\"sk-toggleable__label sk-toggleable__label-arrow\">XGBClassifier</label><div class=\"sk-toggleable__content\"><pre>XGBClassifier(base_score=0.5, booster=&#x27;gbtree&#x27;, colsample_bylevel=1,\n",
              "              colsample_bynode=1, colsample_bytree=0.55,\n",
              "              gamma=0.15000000000000002, gpu_id=-1, importance_type=&#x27;gain&#x27;,\n",
              "              interaction_constraints=&#x27;&#x27;, learning_rate=0.28, max_delta_step=0,\n",
              "              max_depth=8, min_child_weight=1.0, missing=nan,\n",
              "              monotone_constraints=&#x27;()&#x27;, n_estimators=95, n_jobs=-1,\n",
              "              num_parallel_tree=1, random_state=18, reg_alpha=118.0,\n",
              "              reg_lambda=0.03392680436423523, scale_pos_weight=1, subsample=1,\n",
              "              tree_method=&#x27;exact&#x27;, validate_parameters=1, verbosity=None)</pre></div></div></div></div></div>"
            ],
            "text/plain": [
              "XGBClassifier(base_score=0.5, booster='gbtree', colsample_bylevel=1,\n",
              "              colsample_bynode=1, colsample_bytree=0.55,\n",
              "              gamma=0.15000000000000002, gpu_id=-1, importance_type='gain',\n",
              "              interaction_constraints='', learning_rate=0.28, max_delta_step=0,\n",
              "              max_depth=8, min_child_weight=1.0, missing=nan,\n",
              "              monotone_constraints='()', n_estimators=95, n_jobs=-1,\n",
              "              num_parallel_tree=1, random_state=18, reg_alpha=118.0,\n",
              "              reg_lambda=0.03392680436423523, scale_pos_weight=1, subsample=1,\n",
              "              tree_method='exact', validate_parameters=1, verbosity=None)"
            ]
          },
          "execution_count": 53,
          "metadata": {},
          "output_type": "execute_result"
        }
      ],
      "source": [
        "%%time\n",
        "\n",
        "# Best Adasyn XGB\n",
        "smt_xgb = xgb.XGBClassifier(max_depth=int(best['max_depth']),\n",
        "                            gamma=best['gamma'],\n",
        "                            reg_alpha=best['reg_alpha'],\n",
        "                            reg_lambda=best['reg_lambda'],\n",
        "                            colsample_bytree=best['colsample_bytree'],\n",
        "                            min_child_weight=best['min_child_weight'],\n",
        "                            n_estimators=int(best['n_estimators']),\n",
        "                            learning_rate=best['learning_rate'],\n",
        "                            objective='binary:logistic',\n",
        "                            n_jobs=-1,\n",
        "                            random_state=18)\n",
        "\n",
        "smt_xgb.fit(X_smt, y_smt)"
      ]
    },
    {
      "cell_type": "markdown",
      "metadata": {
        "id": "4YHI44x_VQ0J"
      },
      "source": [
        "### Metrics"
      ]
    },
    {
      "cell_type": "code",
      "execution_count": null,
      "metadata": {
        "id": "ikL98qMcVQ0K"
      },
      "outputs": [],
      "source": [
        "# Predict test dataset\n",
        "train_pred_smt_xgb = smt_xgb.predict(X_smt)\n",
        "train_proba_smt_xgb = smt_xgb.predict_proba(X_smt)\n",
        "test_pred_smt_xgb = smt_xgb.predict(X_test_new)\n",
        "test_proba_smt_xgb = smt_xgb.predict_proba(X_test_new)"
      ]
    },
    {
      "cell_type": "code",
      "execution_count": null,
      "metadata": {
        "id": "PuFve4-4VQ0K",
        "outputId": "ec8953cd-4cb9-475e-d202-e0656186c2a5"
      },
      "outputs": [
        {
          "name": "stdout",
          "output_type": "stream",
          "text": [
            "=================== TRAIN ===================\n",
            "TRAIN ROC_AUC score:  1.0\n",
            " \n",
            "             precision recall f1-score     support\n",
            "Legítima          0.99   0.99     0.99  1291079.00\n",
            "Fraude            0.99   0.99     0.99  1291079.00\n",
            "accuracy          0.99   0.99     0.99        0.99\n",
            "macro avg         0.99   0.99     0.99  2582158.00\n",
            "weighted avg      0.99   0.99     0.99  2582158.00\n"
          ]
        }
      ],
      "source": [
        "evaluate_model('TRAIN', y_smt, train_pred_smt_xgb, train_proba_smt_xgb)"
      ]
    },
    {
      "cell_type": "code",
      "execution_count": null,
      "metadata": {
        "id": "WcZ6LszPVQ0L",
        "outputId": "9e30f1f6-19db-4ff3-aa12-792e72d33635"
      },
      "outputs": [
        {
          "name": "stdout",
          "output_type": "stream",
          "text": [
            "=================== TEST ===================\n",
            "TEST ROC_AUC score:  0.99\n",
            " \n",
            "             precision recall f1-score    support\n",
            "Legítima          1.00   0.99     1.00  554392.00\n",
            "Fraude            0.37   0.88     0.52    2145.00\n",
            "accuracy          0.99   0.99     0.99       0.99\n",
            "macro avg         0.68   0.93     0.76  556537.00\n",
            "weighted avg      1.00   0.99     0.99  556537.00\n"
          ]
        }
      ],
      "source": [
        "evaluate_model('TEST', y_test, test_pred_smt_xgb, test_proba_smt_xgb)"
      ]
    },
    {
      "cell_type": "code",
      "execution_count": null,
      "metadata": {
        "id": "NaVRODziVQ0L",
        "outputId": "2abe6fe1-3f38-4f0b-95d2-48fb15578bf6"
      },
      "outputs": [
        {
          "data": {
            "image/png": "[encoded data removed]",
            "text/plain": [
              "<Figure size 432x288 with 2 Axes>"
            ]
          },
          "metadata": {
            "needs_background": "light"
          },
          "output_type": "display_data"
        }
      ],
      "source": [
        "get_confusion_matrix('TEST', smt_xgb, y_test, X_test_new)"
      ]
    },
    {
      "cell_type": "markdown",
      "metadata": {
        "id": "b5cm3TiMVQ0M"
      },
      "source": [
        "# ROC Curves"
      ]
    },
    {
      "cell_type": "code",
      "execution_count": null,
      "metadata": {
        "id": "fpmu51lUVQ0M",
        "outputId": "6cc8d381-1f68-4e02-d38f-239f86649ea8"
      },
      "outputs": [
        {
          "data": {
            "image/png": "[encoded data removed]",
            "text/plain": [
              "<Figure size 432x288 with 1 Axes>"
            ]
          },
          "metadata": {
            "needs_background": "light"
          },
          "output_type": "display_data"
        }
      ],
      "source": [
        "# ROC_AUC scores\n",
        "ada_rf_roc_auc = roc_auc_score(y_true=y_test, y_score=test_proba_ada_rf[:,1]) # ADASYN + Random Forest\n",
        "smt_rf_roc_auc = roc_auc_score(y_true=y_test, y_score=test_proba_smt_rf[:,1]) # SMOTE + Random Forest\n",
        "ada_xgb_roc_auc = roc_auc_score(y_true=y_test, y_score=test_proba_ada_xgb[:,1]) # ADASYN + XGBoost\n",
        "smt_xgb_roc_auc = roc_auc_score(y_true=y_test, y_score=test_proba_smt_xgb[:,1]) # SMOTE + XGBoost\n",
        "\n",
        "# Calculate true/false positive rate and thresholds\n",
        "fpr_ada_rf, tpr_ada_rf, thresholds_ada_rf = roc_curve(y_true=y_test, y_score=test_proba_ada_rf[:,1], pos_label=1)\n",
        "fpr_smt_rf, tpr_smt_rf, thresholds_smt_rf = roc_curve(y_true=y_test, y_score=test_proba_smt_rf[:,1], pos_label=1)\n",
        "fpr_ada_xgb, tpr_ada_xgb, thresholds_ada_xgb = roc_curve(y_true=y_test, y_score=test_proba_ada_xgb[:,1], pos_label=1)\n",
        "fpr_smt_xgb, tpr_smt_xgb, thresholds_smt_xgb = roc_curve(y_true=y_test, y_score=test_proba_smt_xgb[:,1], pos_label=1)\n",
        "\n",
        "# Plot roc curve\n",
        "plt.plot(fpr_ada_rf, tpr_ada_rf, 'b', label = 'ADASYN+RF AUC = %0.2f' % ada_rf_roc_auc, color='darkslateblue')\n",
        "plt.plot(fpr_smt_rf, tpr_smt_rf, 'b', label = 'SMOTE+RF AUC = %0.2f' % smt_rf_roc_auc, color='darkcyan')\n",
        "plt.plot(fpr_ada_xgb, tpr_ada_xgb, 'b', label = 'ADASYN+XGB AUC = %0.2f' % ada_xgb_roc_auc, color='lightseagreen')\n",
        "plt.plot(fpr_smt_xgb, tpr_smt_xgb, 'b', label = 'SMOTE+XGB AUC = %0.2f' % smt_xgb_roc_auc, color='greenyellow')\n",
        "\n",
        "plt.plot([0, 1], [0, 1], 'r--', color='gray')\n",
        "plt.xlim([0, 1])\n",
        "plt.ylim([0, 1])\n",
        "\n",
        "plt.title('Receiver Operating Characteristic')\n",
        "plt.ylabel('True Positive Rate')\n",
        "plt.xlabel('False Positive Rate')\n",
        "plt.legend(loc = 'lower right')\n",
        "\n",
        "plt.savefig('./roc_curves', bbox_inches='tight', dpi=600)\n",
        "plt.show()"
      ]
    },
    {
      "cell_type": "markdown",
      "metadata": {
        "id": "bvyfPztTVQ0N"
      },
      "source": [
        "## Custom Threshold"
      ]
    },
    {
      "cell_type": "code",
      "execution_count": null,
      "metadata": {
        "id": "JpFr0Lv9VQ0N"
      },
      "outputs": [],
      "source": [
        "# Examples\n",
        "threshold = 0.28\n",
        "\n",
        "\n",
        "\n",
        "labels = (test_proba_smt_xgb[:,1] >= threshold).astype('int')"
      ]
    },
    {
      "cell_type": "code",
      "execution_count": null,
      "metadata": {
        "id": "ENRM-TqQVQ0N",
        "outputId": "a64b43a8-b3bd-4495-8921-582cac8d614a"
      },
      "outputs": [
        {
          "data": {
            "image/png": "[encoded data removed]",
            "text/plain": [
              "<Figure size 432x288 with 2 Axes>"
            ]
          },
          "metadata": {
            "needs_background": "light"
          },
          "output_type": "display_data"
        }
      ],
      "source": [
        "get_confusion_matrix_2(y_test, labels, display_names=['Legítima', 'Fraude'])"
      ]
    },
    {
      "cell_type": "code",
      "execution_count": null,
      "metadata": {
        "id": "8f0dmJnYVQ0O",
        "outputId": "2336c8a0-5a29-4442-9762-936e3bfbe7f3"
      },
      "outputs": [
        {
          "name": "stdout",
          "output_type": "stream",
          "text": [
            "=================== TEST ===================\n",
            "TEST ROC_AUC score:  0.99\n",
            " \n",
            "             precision recall f1-score    support\n",
            "Legítima          1.00   0.99     0.99  554392.00\n",
            "Fraude            0.25   0.91     0.40    2145.00\n",
            "accuracy          0.99   0.99     0.99       0.99\n",
            "macro avg         0.63   0.95     0.70  556537.00\n",
            "weighted avg      1.00   0.99     0.99  556537.00\n"
          ]
        }
      ],
      "source": [
        "evaluate_model('TEST', y_test, labels, test_proba_smt_xgb)"
      ]
    },
    {
      "cell_type": "markdown",
      "metadata": {
        "id": "ZhpPx_ZzVQ0P"
      },
      "source": [
        "## Feature Importance"
      ]
    },
    {
      "cell_type": "markdown",
      "metadata": {
        "id": "4a9QqzMAVQ0P"
      },
      "source": [
        "importance_type\n",
        "\n",
        "‘weight’ - the number of times a feature is used to split the data across all trees.\n",
        "\n",
        "‘gain’ - the average gain across all splits the feature is used in.\n",
        "\n",
        "‘cover’ - the average coverage across all splits the feature is used in.\n",
        "\n",
        "‘total_gain’ - the total gain across all splits the feature is used in.\n",
        "\n",
        "‘total_cover’ - the total coverage across all splits the feature is used in."
      ]
    },
    {
      "cell_type": "code",
      "execution_count": null,
      "metadata": {
        "id": "doDj2ok9VQ0P"
      },
      "outputs": [],
      "source": [
        "# Get feature importance\n",
        "feature_important = smt_xgb.get_booster().get_score(importance_type='gain')\n",
        "keys = list(feature_important.keys())\n",
        "values = list(feature_important.values())\n",
        "data = pd.DataFrame(data=values, index=keys, columns=[\"score\"]).sort_values(by = \"score\", ascending=False)"
      ]
    },
    {
      "cell_type": "code",
      "execution_count": null,
      "metadata": {
        "id": "Ttt52kT1VQ0Q",
        "outputId": "bbb524fd-8e38-4fa6-ce20-fc032c94dd14"
      },
      "outputs": [
        {
          "data": {
            "image/png": "[encoded data removed]",
            "text/plain": [
              "<Figure size 576x432 with 1 Axes>"
            ]
          },
          "metadata": {
            "needs_background": "light"
          },
          "output_type": "display_data"
        }
      ],
      "source": [
        "ax = data.nlargest(11, columns=\"score\").plot(kind='barh', figsize = (8, 6), color='gray')\n",
        "\n",
        "ax.figure.savefig('./feature_importance.png', bbox_inches='tight', dpi=600)"
      ]
    }
  ],
  "metadata": {
    "kernelspec": {
      "display_name": "Python 3",
      "language": "python",
      "name": "python3"
    },
    "language_info": {
      "codemirror_mode": {
        "name": "ipython",
        "version": 3
      },
      "file_extension": ".py",
      "mimetype": "text/x-python",
      "name": "python",
      "nbconvert_exporter": "python",
      "pygments_lexer": "ipython3",
      "version": "3.8.5"
    },
    "colab": {
      "provenance": []
    }
  },
  "nbformat": 4,
  "nbformat_minor": 0
}